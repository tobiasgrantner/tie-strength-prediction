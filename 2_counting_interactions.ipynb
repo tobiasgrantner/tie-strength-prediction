{
 "cells": [
  {
   "cell_type": "markdown",
   "metadata": {},
   "source": [
    "# Counting Interactions"
   ]
  },
  {
   "cell_type": "markdown",
   "metadata": {},
   "source": [
    "In order to analyze the data, we need to count the interactions between users. What we are interested in are the number of comments/postings between two users, the number of upvotes/downvotes of one user on another users posts, and the number of follows/ignores between two users. We will store these numbers in a new relationship type called `INTERACTION`."
   ]
  },
  {
   "cell_type": "markdown",
   "metadata": {},
   "source": [
    "## Setup"
   ]
  },
  {
   "cell_type": "code",
   "execution_count": null,
   "metadata": {},
   "outputs": [],
   "source": [
    "import sys\n",
    "!{sys.executable} -m pip install -r requirements.txt"
   ]
  },
  {
   "cell_type": "code",
   "execution_count": null,
   "metadata": {},
   "outputs": [],
   "source": [
    "import numpy as np\n",
    "import pandas as pd\n",
    "import seaborn as sns\n",
    "from matplotlib import pyplot as plt\n",
    "from neo4j import GraphDatabase\n",
    "\n",
    "uri = \"neo4j://localhost:7687\"\n",
    "driver = GraphDatabase.driver(uri)"
   ]
  },
  {
   "cell_type": "markdown",
   "metadata": {},
   "source": [
    "## Postings"
   ]
  },
  {
   "cell_type": "code",
   "execution_count": null,
   "metadata": {},
   "outputs": [],
   "source": [
    "with driver.session() as session:\n",
    "    result = session.run('''\n",
    "    MATCH (u1:User) -[:POSTED_BY]- (:Posting) -[:HAS_PARENT]- (:Posting) -[:POSTED_BY]- (u2:User)\n",
    "    WHERE u1.id < u2.id\n",
    "    WITH u1, u2, COUNT(*) AS postings\n",
    "    MERGE (u1) -[i:INTERACTION]- (u2)\n",
    "    SET i.postings = postings\n",
    "''')"
   ]
  },
  {
   "cell_type": "markdown",
   "metadata": {},
   "source": [
    "## Channels"
   ]
  },
  {
   "cell_type": "code",
   "execution_count": null,
   "metadata": {},
   "outputs": [],
   "source": [
    "with driver.session() as session:\n",
    "    result = session.run('''\n",
    "    :auto\n",
    "    CALL {\n",
    "        MATCH (u1:User) -[:POSTED_BY]- (p1:Posting) -[:HAS_PARENT]- (p2:Posting) -[:POSTED_BY]- (u2:User)\n",
    "        WHERE u1.id < u2.id\n",
    "        UNWIND [p1, p2] AS p\n",
    "        RETURN u1, u2, p\n",
    "        UNION\n",
    "        MATCH (u1:User) -[:(UPVOTED|DOWNVOTED)]- (p:Posting) -[:POSTED_BY]- (u2:User)\n",
    "        WHERE u1.id < u2.id\n",
    "        RETURN u1, u2, p\n",
    "        UNION\n",
    "        MATCH (u2:User) -[:(UPVOTED|DOWNVOTED)]- (p:Posting) -[:POSTED_BY]- (u1:User)\n",
    "        WHERE u1.id < u2.id\n",
    "        RETURN u1, u2, p\n",
    "    }\n",
    "    MATCH (p) -[:POSTED_ON]- (a:Article)\n",
    "    WITH u1, u2, COUNT(DISTINCT a.channel) AS channels\n",
    "    CALL {\n",
    "        WITH u1, u2, channels\n",
    "        MERGE (u1) -[i:INTERACTION]- (u2)\n",
    "        SET i.channels = channels\n",
    "    } IN TRANSACTIONS OF 1000 ROWS\n",
    "''')"
   ]
  },
  {
   "cell_type": "markdown",
   "metadata": {},
   "source": [
    "## Upvotes/Downvotes"
   ]
  },
  {
   "cell_type": "code",
   "execution_count": null,
   "metadata": {},
   "outputs": [],
   "source": [
    "with driver.session() as session:\n",
    "    result = session.run('''\n",
    "    :auto\n",
    "    CALL {\n",
    "        MATCH (u1:User) -[:UPVOTED]- (:Posting) -[:POSTED_BY]- (u2:User)\n",
    "        WHERE u1.id < u2.id\n",
    "        RETURN u1, u2, COUNT(*) AS upvotes\n",
    "        UNION ALL\n",
    "        MATCH (u2:User) -[:UPVOTED]- (:Posting) -[:POSTED_BY]- (u1:User)\n",
    "        WHERE u1.id < u2.id\n",
    "        RETURN u1, u2, COUNT(*) AS upvotes\n",
    "    }\n",
    "    WITH u1, u2, SUM(upvotes) AS upvotes\n",
    "    CALL {\n",
    "        WITH u1, u2, upvotes\n",
    "        MERGE (u1) -[i:INTERACTION]- (u2)\n",
    "        SET i.upvotes = upvotes\n",
    "    } IN TRANSACTIONS OF 1000 ROWS\n",
    "''')"
   ]
  },
  {
   "cell_type": "code",
   "execution_count": null,
   "metadata": {},
   "outputs": [],
   "source": [
    "with driver.session() as session:\n",
    "    result = session.run('''\n",
    "    :auto\n",
    "    CALL {\n",
    "        MATCH (u1:User) -[:DOWNVOTED]- (:Posting) -[:POSTED_BY]- (u2:User)\n",
    "        WHERE u1.id < u2.id\n",
    "        RETURN u1, u2, COUNT(*) AS downvotes\n",
    "        UNION ALL\n",
    "        MATCH (u2:User) -[:DOWNVOTED]- (:Posting) -[:POSTED_BY]- (u1:User)\n",
    "        WHERE u1.id < u2.id\n",
    "        RETURN u1, u2, COUNT(*) AS downvotes\n",
    "    }\n",
    "    WITH u1, u2, SUM(downvotes) AS downvotes\n",
    "    CALL {\n",
    "        WITH u1, u2, downvotes\n",
    "        MERGE (u1) -[i:INTERACTION]- (u2)\n",
    "        SET i.downvotes = downvotes\n",
    "    } IN TRANSACTIONS OF 1000 ROWS\n",
    "''')"
   ]
  },
  {
   "cell_type": "markdown",
   "metadata": {},
   "source": [
    "## Following/Ignores"
   ]
  },
  {
   "cell_type": "code",
   "execution_count": null,
   "metadata": {},
   "outputs": [],
   "source": [
    "with driver.session() as session:\n",
    "    result = session.run('''\n",
    "    CALL {\n",
    "        MATCH (u1:User) -[:FOLLOWS]-> (u2:User)\n",
    "        WHERE u1.id < u2.id\n",
    "        RETURN u1, u2\n",
    "        UNION ALL\n",
    "        MATCH (u1:User) <-[:FOLLOWS]- (u2:User)\n",
    "        WHERE u1.id < u2.id\n",
    "        RETURN u1, u2\n",
    "    }\n",
    "    WITH u1, u2, COUNT(*) AS follows\n",
    "    MERGE (u1) -[i:INTERACTION]- (u2)\n",
    "    SET i.follows = follows\n",
    "''')"
   ]
  },
  {
   "cell_type": "code",
   "execution_count": null,
   "metadata": {},
   "outputs": [],
   "source": [
    "with driver.session() as session:\n",
    "    result = session.run('''\n",
    "    CALL {\n",
    "        MATCH (u1:User) -[:IGNORES]-> (u2:User)\n",
    "        WHERE u1.id < u2.id\n",
    "        RETURN u1, u2\n",
    "        UNION ALL\n",
    "        MATCH (u1:User) <-[:IGNORES]- (u2:User)\n",
    "        WHERE u1.id < u2.id\n",
    "        RETURN u1, u2\n",
    "    }\n",
    "    WITH u1, u2, COUNT(*) AS ignores\n",
    "    MERGE (u1) -[i:INTERACTION]- (u2)\n",
    "    SET i.ignores = ignores\n",
    "''')"
   ]
  },
  {
   "cell_type": "markdown",
   "metadata": {},
   "source": [
    "## Export to CSV"
   ]
  },
  {
   "cell_type": "code",
   "execution_count": null,
   "metadata": {},
   "outputs": [],
   "source": [
    "with driver.session() as session:\n",
    "    result = session.run('''\n",
    "    WITH \"MATCH (u1:User) -[i:INTERACTION]- (u2:User)\n",
    "        WHERE u1.id < u2.id\n",
    "        RETURN 'u' + u1.id AS `:START_ID`, 'u' + u2.id AS `:END_ID`, i.postings AS `postings:long`, i.channels AS `channels:long`, i.upvotes AS `upvotes:long`, i.downvotes AS `downvotes:long`, i.follows AS `follows:long`, i.ignores AS `ignores:long`\n",
    "        ORDER BY u1.id, u2.id\" AS query\n",
    "    CALL apoc.export.csv.query(query, \"interaction.csv\", {quotes: \"ifNeeded\"})\n",
    "    YIELD file, source, format, nodes, relationships, properties, time, rows, batchSize, batches, done, data\n",
    "    RETURN file, source, format, nodes, relationships, properties, time, rows, batchSize, batches, done, data\n",
    "''')"
   ]
  },
  {
   "cell_type": "markdown",
   "metadata": {},
   "source": [
    "Once the aggregation is done, we can export the `INTERACTION` relationship to a CSV file, so that it can be imported into the Neo4j database like the other relationships."
   ]
  },
  {
   "cell_type": "code",
   "execution_count": null,
   "metadata": {},
   "outputs": [],
   "source": [
    "!docker cp tie-strength-prediction-neo4j-1:/var/lib/neo4j/import/interaction.csv graph/"
   ]
  },
  {
   "cell_type": "markdown",
   "metadata": {},
   "source": [
    "We can then copy the CSV files into our repository for later use."
   ]
  },
  {
   "cell_type": "markdown",
   "metadata": {},
   "source": [
    "## Analysis"
   ]
  },
  {
   "cell_type": "code",
   "execution_count": null,
   "metadata": {},
   "outputs": [],
   "source": [
    "with driver.session() as session:\n",
    "    result = pd.DataFrame(session.run('''\n",
    "        MATCH (u1:User) -[i:INTERACTION]- (u2:User)\n",
    "        WHERE u1.id < u2.id AND i.postings IS NOT NULL\n",
    "        RETURN i.postings AS postings, COUNT(*) AS frequency\n",
    "        ORDER BY postings\n",
    "    ''').data())\n",
    "\n",
    "index = np.arange(result.postings.min(), result.postings.max() + 1)\n",
    "result.set_index('postings', inplace=True)\n",
    "result = result.reindex(index).fillna(0).reset_index()\n",
    "\n",
    "g = sns.lineplot(x='postings', y='frequency', data=result)\n",
    "g.fill_between(result['postings'], result['frequency'], alpha=0.2)\n",
    "g.set_yscale('log')\n",
    "plt.title('Frequency of number of posting interactions')"
   ]
  },
  {
   "cell_type": "code",
   "execution_count": null,
   "metadata": {},
   "outputs": [],
   "source": [
    "with driver.session() as session:\n",
    "    result = pd.DataFrame(session.run('''\n",
    "        MATCH (u1:User) -[i:INTERACTION]- (u2:User)\n",
    "        WHERE u1.id < u2.id AND i.upvotes IS NOT NULL\n",
    "        RETURN i.upvotes AS upvotes, COUNT(*) AS frequency\n",
    "        ORDER BY upvotes\n",
    "    ''').data())\n",
    "\n",
    "index = np.arange(result.upvotes.min(), result.upvotes.max() + 1)\n",
    "result.set_index('upvotes', inplace=True)\n",
    "result = result.reindex(index).fillna(0).reset_index()\n",
    "\n",
    "g = sns.lineplot(x='upvotes', y='frequency', data=result)\n",
    "g.fill_between(result['upvotes'], result['frequency'], alpha=0.2)\n",
    "g.set_yscale('log')\n",
    "plt.title('Frequency of number of upvote interactions')"
   ]
  },
  {
   "cell_type": "code",
   "execution_count": null,
   "metadata": {},
   "outputs": [],
   "source": [
    "with driver.session() as session:\n",
    "    result = pd.DataFrame(session.run('''\n",
    "        MATCH (u1:User) -[i:INTERACTION]- (u2:User)\n",
    "        WHERE u1.id < u2.id AND i.downvotes IS NOT NULL\n",
    "        RETURN i.downvotes AS downvotes, COUNT(*) AS frequency\n",
    "        ORDER BY downvotes\n",
    "    ''').data())\n",
    "\n",
    "index = np.arange(result.downvotes.min(), result.downvotes.max() + 1)\n",
    "result.set_index('downvotes', inplace=True)\n",
    "result = result.reindex(index).fillna(0).reset_index()\n",
    "\n",
    "g = sns.lineplot(x='downvotes', y='frequency', data=result)\n",
    "g.fill_between(result['downvotes'], result['frequency'], alpha=0.2)\n",
    "g.set_yscale('log')\n",
    "plt.title('Frequency of number of downvote interactions')"
   ]
  },
  {
   "cell_type": "code",
   "execution_count": null,
   "metadata": {},
   "outputs": [],
   "source": [
    "with driver.session() as session:\n",
    "    result = pd.DataFrame(session.run('''\n",
    "        MATCH (u1:User) -[i:INTERACTION]- (u2:User)\n",
    "        WHERE u1.id < u2.id AND i.channels IS NOT NULL\n",
    "        RETURN i.channels AS channels, COUNT(*) AS frequency\n",
    "        ORDER BY channels\n",
    "    ''').data())\n",
    "\n",
    "g = sns.barplot(x='channels', y='frequency', data=result)\n",
    "g.set_yscale('log')\n",
    "plt.title('Frequency of number of channel interactions')"
   ]
  },
  {
   "cell_type": "code",
   "execution_count": null,
   "metadata": {},
   "outputs": [],
   "source": [
    "with driver.session() as session:\n",
    "    result = pd.DataFrame(session.run('''\n",
    "        MATCH (u1:User) -[i:INTERACTION]- (u2:User)\n",
    "        WHERE u1.id < u2.id AND (i.follows IS NOT NULL OR i.ignores IS NOT NULL)\n",
    "        WITH COALESCE(i.follows, 0) AS follows, COALESCE(i.ignores, 0) as ignores, COUNT(*) AS frequency\n",
    "        RETURN CASE WHEN follows = 2 THEN 'mutual follow' WHEN ignores = 2 THEN 'mutual ignore' WHEN follows = 1 AND ignores = 1 THEN 'conflicting' WHEN follows = 1 THEN 'follow' WHEN ignores = 1 THEN 'ignore' ELSE 'none' END AS type, frequency\n",
    "        ORDER BY frequency DESC\n",
    "    ''').data())\n",
    "\n",
    "g = sns.histplot(x='type', weights='frequency', data=result)\n",
    "g.set_yscale('log')\n",
    "plt.title('Frequency of following/ignoring types')"
   ]
  },
  {
   "cell_type": "code",
   "execution_count": null,
   "metadata": {},
   "outputs": [],
   "source": [
    "with driver.session() as session:\n",
    "    result = pd.DataFrame(session.run('''\n",
    "        MATCH () -[i:UPVOTED]- ()\n",
    "        RETURN COUNT(*) AS frequency, 'upvotes' AS type\n",
    "        UNION ALL\n",
    "        MATCH () -[i:DOWNVOTED]- ()\n",
    "        RETURN COUNT(*) AS frequency, 'downvotes' AS type\n",
    "        UNION ALL\n",
    "        MATCH () -[i:HAS_PARENT]- ()\n",
    "        RETURN COUNT(*) AS frequency, 'postings' AS type\n",
    "        UNION ALL\n",
    "        MATCH () -[i:FOLLOWS]- ()\n",
    "        RETURN COUNT(*) AS frequency, 'follows' AS type\n",
    "        UNION ALL\n",
    "        MATCH () -[i:IGNORES]- ()\n",
    "        RETURN COUNT(*) AS frequency, 'ignores' AS type\n",
    "    ''').data())\n",
    "\n",
    "g = sns.histplot(x='type', weights='frequency', data=result)\n",
    "g.set_yscale('log')\n",
    "plt.title('Frequency of interaction types')"
   ]
  },
  {
   "cell_type": "code",
   "execution_count": null,
   "metadata": {},
   "outputs": [],
   "source": [
    "with driver.session() as session:\n",
    "    result = pd.DataFrame(session.run('''\n",
    "        MATCH (u1:User) -[i:INTERACTION]- (u2:User)\n",
    "        WITH u1.id as user, COUNT(*) AS users\n",
    "        RETURN users, COUNT(*) AS frequency\n",
    "    ''').data())\n",
    "\n",
    "g = sns.histplot(x='users', weights='frequency', data=result, bins='fd')\n",
    "g.set_yscale('log')\n",
    "plt.title('Frequency of number users interacting with')"
   ]
  },
  {
   "cell_type": "code",
   "execution_count": null,
   "metadata": {},
   "outputs": [],
   "source": []
  }
 ],
 "metadata": {
  "kernelspec": {
   "display_name": "venv",
   "language": "python",
   "name": "python3"
  },
  "language_info": {
   "codemirror_mode": {
    "name": "ipython",
    "version": 3
   },
   "file_extension": ".py",
   "mimetype": "text/x-python",
   "name": "python",
   "nbconvert_exporter": "python",
   "pygments_lexer": "ipython3",
   "version": "3.9.18"
  }
 },
 "nbformat": 4,
 "nbformat_minor": 2
}
