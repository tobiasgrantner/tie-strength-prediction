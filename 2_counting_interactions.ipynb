{
 "cells": [
  {
   "cell_type": "markdown",
   "metadata": {},
   "source": [
    "# Counting Interactions"
   ]
  },
  {
   "cell_type": "markdown",
   "metadata": {},
   "source": [
    "In order to analyze the data, we need to count the interactions between users. What we are interested in are the number of comments/postings between two users, the number of upvotes/downvotes of one user on another users posts, and the number of follows/ignores between two users. We will store these numbers in a new relationship type called `INTERACTION`."
   ]
  },
  {
   "cell_type": "markdown",
   "metadata": {},
   "source": [
    "## Setup"
   ]
  },
  {
   "cell_type": "code",
   "execution_count": 2,
   "metadata": {},
   "outputs": [],
   "source": [
    "from neo4j import GraphDatabase\n",
    "\n",
    "uri = \"neo4j://localhost:7687\"\n",
    "driver = GraphDatabase.driver(uri)"
   ]
  },
  {
   "cell_type": "markdown",
   "metadata": {},
   "source": [
    "## Postings"
   ]
  },
  {
   "cell_type": "code",
   "execution_count": null,
   "metadata": {},
   "outputs": [],
   "source": [
    "with driver.session() as session:\n",
    "    result = session.run('''\n",
    "    MATCH (u1:User) -[:POSTED_BY]- (:Posting) -[:HAS_PARENT]- (:Posting) -[:POSTED_BY]- (u2:User)\n",
    "    WHERE u1.id < u2.id\n",
    "    WITH u1, u2, COUNT(*) AS postings\n",
    "    MERGE (u1) -[i:INTERACTION]- (u2)\n",
    "    SET i.postings = postings\n",
    "''')"
   ]
  },
  {
   "cell_type": "markdown",
   "metadata": {},
   "source": [
    "## Channels"
   ]
  },
  {
   "cell_type": "code",
   "execution_count": null,
   "metadata": {},
   "outputs": [],
   "source": [
    "with driver.session() as session:\n",
    "    result = session.run('''\n",
    "    :auto\n",
    "    CALL {\n",
    "        MATCH (u1:User) -[:POSTED_BY]- (p1:Posting) -[:HAS_PARENT]- (p2:Posting) -[:POSTED_BY]- (u2:User)\n",
    "        WHERE u1.id < u2.id\n",
    "        UNWIND [p1, p2] AS p\n",
    "        RETURN u1, u2, p\n",
    "        UNION\n",
    "        MATCH (u1:User) -[:(UPVOTED|DOWNVOTED)]- (p:Posting) -[:POSTED_BY]- (u2:User)\n",
    "        WHERE u1.id < u2.id\n",
    "        RETURN u1, u2, p\n",
    "        UNION\n",
    "        MATCH (u2:User) -[:(UPVOTED|DOWNVOTED)]- (p:Posting) -[:POSTED_BY]- (u1:User)\n",
    "        WHERE u1.id < u2.id\n",
    "        RETURN u1, u2, p\n",
    "    }\n",
    "    MATCH (p) -[:POSTED_ON]- (a:Article)\n",
    "    WITH u1, u2, COUNT(DISTINCT a.channel) AS channels\n",
    "    CALL {\n",
    "        WITH u1, u2, channels\n",
    "        MERGE (u1) -[i:INTERACTION]- (u2)\n",
    "        SET i.channels = channels\n",
    "    } IN TRANSACTIONS OF 1000 ROWS\n",
    "''')"
   ]
  },
  {
   "cell_type": "markdown",
   "metadata": {},
   "source": [
    "## Upvotes/Downvotes"
   ]
  },
  {
   "cell_type": "code",
   "execution_count": null,
   "metadata": {},
   "outputs": [],
   "source": [
    "with driver.session() as session:\n",
    "    result = session.run('''\n",
    "    :auto\n",
    "    CALL {\n",
    "        MATCH (u1:User) -[:UPVOTED]- (:Posting) -[:POSTED_BY]- (u2:User)\n",
    "        WHERE u1.id < u2.id\n",
    "        RETURN u1, u2, COUNT(*) AS upvotes\n",
    "        UNION ALL\n",
    "        MATCH (u2:User) -[:UPVOTED]- (:Posting) -[:POSTED_BY]- (u1:User)\n",
    "        WHERE u1.id < u2.id\n",
    "        RETURN u1, u2, COUNT(*) AS upvotes\n",
    "    }\n",
    "    WITH u1, u2, SUM(upvotes) AS upvotes\n",
    "    CALL {\n",
    "        WITH u1, u2, upvotes\n",
    "        MERGE (u1) -[i:INTERACTION]- (u2)\n",
    "        SET i.upvotes = upvotes\n",
    "    } IN TRANSACTIONS OF 1000 ROWS\n",
    "''')"
   ]
  },
  {
   "cell_type": "code",
   "execution_count": null,
   "metadata": {},
   "outputs": [],
   "source": [
    "with driver.session() as session:\n",
    "    result = session.run('''\n",
    "    :auto\n",
    "    CALL {\n",
    "        MATCH (u1:User) -[:DOWNVOTED]- (:Posting) -[:POSTED_BY]- (u2:User)\n",
    "        WHERE u1.id < u2.id\n",
    "        RETURN u1, u2, COUNT(*) AS downvotes\n",
    "        UNION ALL\n",
    "        MATCH (u2:User) -[:DOWNVOTED]- (:Posting) -[:POSTED_BY]- (u1:User)\n",
    "        WHERE u1.id < u2.id\n",
    "        RETURN u1, u2, COUNT(*) AS downvotes\n",
    "    }\n",
    "    WITH u1, u2, SUM(downvotes) AS downvotes\n",
    "    CALL {\n",
    "        WITH u1, u2, downvotes\n",
    "        MERGE (u1) -[i:INTERACTION]- (u2)\n",
    "        SET i.downvotes = downvotes\n",
    "    } IN TRANSACTIONS OF 1000 ROWS\n",
    "''')"
   ]
  },
  {
   "cell_type": "markdown",
   "metadata": {},
   "source": [
    "## Following/Ignores"
   ]
  },
  {
   "cell_type": "code",
   "execution_count": null,
   "metadata": {},
   "outputs": [],
   "source": [
    "with driver.session() as session:\n",
    "    result = session.run('''\n",
    "    CALL {\n",
    "        MATCH (u1:User) -[:FOLLOWS]-> (u2:User)\n",
    "        WHERE u1.id < u2.id\n",
    "        RETURN u1, u2\n",
    "        UNION ALL\n",
    "        MATCH (u1:User) <-[:FOLLOWS]- (u2:User)\n",
    "        WHERE u1.id < u2.id\n",
    "        RETURN u1, u2\n",
    "    }\n",
    "    WITH u1, u2, COUNT(*) AS follows\n",
    "    MERGE (u1) -[i:INTERACTION]- (u2)\n",
    "    SET i.follows = follows\n",
    "''')"
   ]
  },
  {
   "cell_type": "code",
   "execution_count": null,
   "metadata": {},
   "outputs": [],
   "source": [
    "with driver.session() as session:\n",
    "    result = session.run('''\n",
    "    CALL {\n",
    "        MATCH (u1:User) -[:IGNORES]-> (u2:User)\n",
    "        WHERE u1.id < u2.id\n",
    "        RETURN u1, u2\n",
    "        UNION ALL\n",
    "        MATCH (u1:User) <-[:IGNORES]- (u2:User)\n",
    "        WHERE u1.id < u2.id\n",
    "        RETURN u1, u2\n",
    "    }\n",
    "    WITH u1, u2, COUNT(*) AS ignores\n",
    "    MERGE (u1) -[i:INTERACTION]- (u2)\n",
    "    SET i.ignores = ignores\n",
    "''')"
   ]
  },
  {
   "cell_type": "markdown",
   "metadata": {},
   "source": [
    "## Export to CSV"
   ]
  },
  {
   "cell_type": "code",
   "execution_count": null,
   "metadata": {},
   "outputs": [],
   "source": [
    "with driver.session() as session:\n",
    "    result = session.run('''\n",
    "    WITH \"MATCH (u1:User) -[i:INTERACTION]- (u2:User)\n",
    "        WHERE u1.id < u2.id\n",
    "        RETURN 'u' + u1.id AS `:START_ID`, 'u' + u2.id AS `:END_ID`, i.postings AS `postings:long`, i.channels AS `channels:long`, i.upvotes AS `upvotes:long`, i.downvotes AS `downvotes:long`, i.follows AS `follows:long`, i.ignores AS `ignores:long`\n",
    "        ORDER BY u1.id, u2.id\" AS query\n",
    "    CALL apoc.export.csv.query(query, \"interaction.csv\", {quotes: \"ifNeeded\"})\n",
    "    YIELD file, source, format, nodes, relationships, properties, time, rows, batchSize, batches, done, data\n",
    "    RETURN file, source, format, nodes, relationships, properties, time, rows, batchSize, batches, done, data\n",
    "''')"
   ]
  },
  {
   "cell_type": "markdown",
   "metadata": {},
   "source": [
    "Once the aggregation is done, we can export the `INTERACTION` relationship to a CSV file, so that it can be imported into the Neo4j database like the other relationships."
   ]
  },
  {
   "cell_type": "code",
   "execution_count": null,
   "metadata": {},
   "outputs": [],
   "source": [
    "!docker cp tie-strength-prediction-neo4j-1:/var/lib/neo4j/import/interaction.csv graph/"
   ]
  },
  {
   "cell_type": "markdown",
   "metadata": {},
   "source": [
    "We can then copy the CSV files into our repository for later use."
   ]
  }
 ],
 "metadata": {
  "kernelspec": {
   "display_name": "venv",
   "language": "python",
   "name": "python3"
  },
  "language_info": {
   "codemirror_mode": {
    "name": "ipython",
    "version": 3
   },
   "file_extension": ".py",
   "mimetype": "text/x-python",
   "name": "python",
   "nbconvert_exporter": "python",
   "pygments_lexer": "ipython3",
   "version": "3.11.5"
  }
 },
 "nbformat": 4,
 "nbformat_minor": 2
}
