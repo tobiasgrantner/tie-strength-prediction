{
 "cells": [
  {
   "cell_type": "markdown",
   "metadata": {},
   "source": [
    "## Setup"
   ]
  },
  {
   "cell_type": "code",
   "execution_count": null,
   "metadata": {},
   "outputs": [],
   "source": [
    "import sys\n",
    "!{sys.executable} -m pip install -r requirements.txt"
   ]
  },
  {
   "cell_type": "code",
   "execution_count": 70,
   "metadata": {},
   "outputs": [],
   "source": [
    "from neo4j import GraphDatabase\n",
    "import pandas as pd\n",
    "\n",
    "driver = GraphDatabase.driver('bolt://localhost:7687')"
   ]
  },
  {
   "cell_type": "markdown",
   "metadata": {},
   "source": [
    "## Adding of ChannelCount\n",
    "Adding the channelCount to the users. This shows in how many channels the user interacting with."
   ]
  },
  {
   "cell_type": "code",
   "execution_count": null,
   "metadata": {},
   "outputs": [],
   "source": [
    "def print_follows():\n",
    "        query = \"\"\"\n",
    "            MATCH (u:User)<-[:POSTED_BY]-(p:Posting)-[:POSTED_ON]- (a:Article)\n",
    "            WITH u, COUNT(DISTINCT a.channel) AS DistinctChannels\n",
    "            SET u.channelCount = DistinctChannels\n",
    "            RETURN u.id AS UserID, u.channelCount AS ChannelCount\n",
    "            ORDER BY ChannelCount DESC\n",
    "        \"\"\"\n",
    "        values=[]\n",
    "        with driver.session() as session:\n",
    "            result = session.run(query)\n",
    "\n",
    "# uncomment to run the query    \n",
    "# print_follows()"
   ]
  },
  {
   "cell_type": "markdown",
   "metadata": {},
   "source": [
    "## Sampling"
   ]
  },
  {
   "cell_type": "code",
   "execution_count": null,
   "metadata": {},
   "outputs": [],
   "source": []
  }
 ],
 "metadata": {
  "kernelspec": {
   "display_name": "Python 3",
   "language": "python",
   "name": "python3"
  },
  "language_info": {
   "codemirror_mode": {
    "name": "ipython",
    "version": 3
   },
   "file_extension": ".py",
   "mimetype": "text/x-python",
   "name": "python",
   "nbconvert_exporter": "python",
   "pygments_lexer": "ipython3",
   "version": "3.12.0"
  }
 },
 "nbformat": 4,
 "nbformat_minor": 2
}
