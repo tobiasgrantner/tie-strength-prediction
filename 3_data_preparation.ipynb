{
 "cells": [
  {
   "cell_type": "markdown",
   "metadata": {},
   "source": [
    "# Data Preparation"
   ]
  },
  {
   "cell_type": "markdown",
   "metadata": {},
   "source": [
    "## Setup"
   ]
  },
  {
   "cell_type": "code",
   "execution_count": 1,
   "metadata": {},
   "outputs": [],
   "source": [
    "from neo4j import GraphDatabase\n",
    "\n",
    "uri = \"neo4j://localhost:7687\"\n",
    "driver = GraphDatabase.driver(uri)"
   ]
  },
  {
   "cell_type": "markdown",
   "metadata": {},
   "source": [
    "## Sampling"
   ]
  },
  {
   "cell_type": "markdown",
   "metadata": {},
   "source": [
    "Sample random interactions:"
   ]
  },
  {
   "cell_type": "code",
   "execution_count": 7,
   "metadata": {},
   "outputs": [],
   "source": [
    "sample_size = 10000"
   ]
  },
  {
   "cell_type": "code",
   "execution_count": 8,
   "metadata": {},
   "outputs": [],
   "source": [
    "with driver.session() as session:\n",
    "    result = session.run(f'''\n",
    "    CALL {{\n",
    "        MATCH p=(u1:User)-[i:INTERACTION]-(u2:User) \n",
    "        WHERE u1.id < u2.id \n",
    "        RETURN p, rand() as r, i \n",
    "        ORDER BY r\n",
    "        LIMIT {sample_size}\n",
    "    }}\n",
    "    SET i.set = \"default\"\n",
    "''')"
   ]
  },
  {
   "cell_type": "code",
   "execution_count": 13,
   "metadata": {},
   "outputs": [],
   "source": [
    "with driver.session() as session:\n",
    "    result = session.run('''\n",
    "    WITH \"MATCH (u1:User) -[i:INTERACTION]- (u2:User)\n",
    "        WHERE u1.id < u2.id\n",
    "        RETURN 'u' + u1.id AS `:START_ID`, 'u' + u2.id AS `:END_ID`, i.postings AS `postings:long`, i.channels AS `channels:long`, i.upvotes AS `upvotes:long`, i.downvotes AS `downvotes:long`, i.follows AS `follows:long`, i.ignores AS `ignores:long`, i.set\n",
    "        ORDER BY u1.id, u2.id\" AS query\n",
    "    CALL apoc.export.csv.query(query, \"interactions.csv\", {quotes: \"ifNeeded\"})\n",
    "    YIELD file, source, format, nodes, relationships, properties, time, rows, batchSize, batches, done, data\n",
    "    RETURN file, source, format, nodes, relationships, properties, time, rows, batchSize, batches, done, data\n",
    "''')"
   ]
  },
  {
   "cell_type": "code",
   "execution_count": 12,
   "metadata": {},
   "outputs": [
    {
     "name": "stdout",
     "output_type": "stream",
     "text": [
      "\u001b[sPreparing to copy...\u001b[?25l\u001b[u\u001b[2KCopying from container - 0B\u001b[26G\u001b[0K22.4MB\u001b[26G\u001b[0K45.4MB\u001b[26G\u001b[0K60.6MB\u001b[26G\u001b[0K67.1MB\u001b[?25h\u001b[u\u001b[2KSuccessfully copied 76.6MB to /home/christopher/projects/tu-vienna/tie-strength-prediction/graph/\n"
     ]
    }
   ],
   "source": [
    "!docker cp tie-strength-prediction-neo4j-1:/var/lib/neo4j/import/interactions.csv graph/"
   ]
  },
  {
   "cell_type": "markdown",
   "metadata": {},
   "source": [
    "## Ground Truth Generation"
   ]
  },
  {
   "cell_type": "markdown",
   "metadata": {},
   "source": [
    "Calculate Neighborhood Overlap:"
   ]
  },
  {
   "cell_type": "code",
   "execution_count": 2,
   "metadata": {},
   "outputs": [],
   "source": [
    "with driver.session() as session:\n",
    "    result = session.run('''\n",
    "    CALL {\n",
    "        MATCH p=(u1:User)-[i:INTERACTION]-(u2:User) \n",
    "        WHERE u1.id < u2.id AND i.set = \"default\"\n",
    "        RETURN u1, u2, p, i\n",
    "    }\n",
    "    WITH u1, u2, i\n",
    "    CALL {\n",
    "        WITH u1, u2\n",
    "        MATCH pn=(ut)-[r:INTERACTION]-(un:User) \n",
    "        WHERE (ut.id = u1.id OR ut.id = u2.id) AND un.id <> ut.id AND r.set = \"default\"\n",
    "        RETURN COUNT(DISTINCT un) as un_union\n",
    "    }\n",
    "    CALL {\n",
    "        WITH u1, u2\n",
    "        MATCH pn=(u1)-[r:INTERACTION]-(un:User)-[:INTERACTION]-(u2)\n",
    "        WHERE un.id <> u1.id AND un.id <> u2.id AND r.set = \"default\" \n",
    "        RETURN COUNT(DISTINCT un) as un_intersection\n",
    "    }\n",
    "    WITH i, toFloat(un_intersection) / (toFloat(un_union)-2.0) as un_overlap\n",
    "    CALL {\n",
    "        WITH i, un_overlap\n",
    "        SET i.neighbourhood_overlap = un_overlap          \n",
    "    } IN TRANSACTIONS OF 100 ROWS\n",
    "''')"
   ]
  },
  {
   "cell_type": "code",
   "execution_count": 4,
   "metadata": {},
   "outputs": [],
   "source": [
    "with driver.session() as session:\n",
    "    result = session.run('''\n",
    "    WITH \"MATCH (u1:User) -[i:INTERACTION]- (u2:User)\n",
    "        WHERE u1.id < u2.id\n",
    "        RETURN 'u' + u1.id AS `:START_ID`, 'u' + u2.id AS `:END_ID`, i.postings AS `postings:long`, i.channels AS `channels:long`, i.upvotes AS `upvotes:long`, i.downvotes AS `downvotes:long`, i.follows AS `follows:long`, i.ignores AS `ignores:long`, i.set AS `set`, i.neighbourhood_overlap AS `neighbourhood_overlap:float`\n",
    "        ORDER BY u1.id, u2.id\" AS query\n",
    "    CALL apoc.export.csv.query(query, \"interaction.csv\", {quotes: \"ifNeeded\"})\n",
    "    YIELD file, source, format, nodes, relationships, properties, time, rows, batchSize, batches, done, data\n",
    "    RETURN file, source, format, nodes, relationships, properties, time, rows, batchSize, batches, done, data\n",
    "''')"
   ]
  },
  {
   "cell_type": "code",
   "execution_count": 5,
   "metadata": {},
   "outputs": [
    {
     "name": "stdout",
     "output_type": "stream",
     "text": [
      "\u001b[sPreparing to copy...\u001b[?25l\u001b[u\u001b[2KCopying from container - 0B"
     ]
    },
    {
     "name": "stdout",
     "output_type": "stream",
     "text": [
      "\u001b[26G\u001b[0K24.1MB\u001b[26G\u001b[0K43.6MB\u001b[26G\u001b[0K68.7MB\u001b[?25h\u001b[u\u001b[2KSuccessfully copied 79.7MB to /home/christopher/projects/tu-vienna/tie-strength-prediction/graph/\n"
     ]
    }
   ],
   "source": [
    "!docker cp tie-strength-prediction-neo4j-1:/var/lib/neo4j/import/interaction.csv graph/"
   ]
  },
  {
   "cell_type": "markdown",
   "metadata": {},
   "source": [
    "Local Clustering Coefficient:"
   ]
  },
  {
   "cell_type": "code",
   "execution_count": 4,
   "metadata": {},
   "outputs": [],
   "source": [
    "with driver.session() as session:\n",
    "    result = session.run('''\n",
    "    CALL {\n",
    "        MATCH p=(u:User)-[i:INTERACTION]-(un:User)\n",
    "        WHERE u.id < un.id AND i.set = \"default\"\n",
    "        RETURN u, toFloat(COUNT(i)) as k\n",
    "    }\n",
    "    WITH u, k\n",
    "    CALL {\n",
    "        WITH u\n",
    "        MATCH pn=(un1:User)-[r1:INTERACTION]-(u)-[r2:INTERACTION]-(un2:User),\n",
    "        (un1)-[i:INTERACTION]-(un2)\n",
    "        WHERE un1.id < un2.id AND u.id < un1.id AND u.id < un2.id AND r1.set = \"default\" AND r2.set = \"default\" AND i.set = \"default\"\n",
    "        RETURN toFloat(COUNT(DISTINCT i)) as e\n",
    "    }\n",
    "    WITH u, k, e,\n",
    "        CASE WHEN k <= 0.0 OR e <= 0.0\n",
    "            THEN 0.0\n",
    "            ELSE (2.0 * e) / (k*(k - 1.0))\n",
    "        END AS local_clustering_coefficient\n",
    "    SET u.local_clustering_coefficient = local_clustering_coefficient\n",
    "''')"
   ]
  },
  {
   "cell_type": "markdown",
   "metadata": {},
   "source": [
    "Min Local Clustering Coefficient:"
   ]
  },
  {
   "cell_type": "code",
   "execution_count": 5,
   "metadata": {},
   "outputs": [],
   "source": [
    "with driver.session() as session:\n",
    "    result = session.run('''\n",
    "    CALL {\n",
    "        MATCH p=(u1:User)-[i:INTERACTION]-(u2:User) \n",
    "        WHERE u1.id < u2.id AND i.set = \"default\"\n",
    "        RETURN u1, u2, p, i\n",
    "    }\n",
    "    WITH u1, u2, i,\n",
    "        CASE WHEN u1.local_clustering_coefficient < u2.local_clustering_coefficient\n",
    "            THEN u1.local_clustering_coefficient\n",
    "            ELSE u2.local_clustering_coefficient\n",
    "        END AS min_local_clusterin_coefficient\n",
    "    SET i.min_local_clustering_coefficient = min_local_clusterin_coefficient\n",
    "''')"
   ]
  },
  {
   "cell_type": "code",
   "execution_count": 3,
   "metadata": {},
   "outputs": [],
   "source": [
    "with driver.session() as session:\n",
    "    result = session.run('''\n",
    "    WITH \"MATCH (u1:User) -[i:INTERACTION]- (u2:User)\n",
    "        WHERE u1.id < u2.id\n",
    "        RETURN 'u' + u1.id AS `:START_ID`, 'u' + u2.id AS `:END_ID`, i.postings AS `postings:long`, i.channels AS `channels:long`, i.upvotes AS `upvotes:long`, i.downvotes AS `downvotes:long`, i.follows AS `follows:long`, i.ignores AS `ignores:long`, i.set AS `set`, i.neighbourhood_overlap AS `neighbourhood_overlap:float`, i.min_local_clustering_coefficient AS `min_local_clustering_coefficient:float`\n",
    "        ORDER BY u1.id, u2.id\" AS query\n",
    "    CALL apoc.export.csv.query(query, \"interaction.csv\", {quotes: \"ifNeeded\"})\n",
    "    YIELD file, source, format, nodes, relationships, properties, time, rows, batchSize, batches, done, data\n",
    "    RETURN file, source, format, nodes, relationships, properties, time, rows, batchSize, batches, done, data\n",
    "''')"
   ]
  },
  {
   "cell_type": "code",
   "execution_count": 4,
   "metadata": {},
   "outputs": [
    {
     "name": "stdout",
     "output_type": "stream",
     "text": [
      "\u001b[sPreparing to copy...\u001b[?25l\u001b[u\u001b[2KCopying from container - 0B"
     ]
    },
    {
     "name": "stdout",
     "output_type": "stream",
     "text": [
      "\u001b[26G\u001b[0K26.4MB\u001b[26G\u001b[0K53.8MB\u001b[26G\u001b[0K79.9MB\u001b[?25h\u001b[u\u001b[2KSuccessfully copied 82.8MB to /home/christopher/projects/tu-vienna/tie-strength-prediction/graph/\n"
     ]
    }
   ],
   "source": [
    "!docker cp tie-strength-prediction-neo4j-1:/var/lib/neo4j/import/interaction.csv graph/"
   ]
  },
  {
   "cell_type": "markdown",
   "metadata": {},
   "source": [
    "Tie Strength:"
   ]
  },
  {
   "cell_type": "code",
   "execution_count": 5,
   "metadata": {},
   "outputs": [],
   "source": [
    "with driver.session() as session:\n",
    "    result = session.run('''\n",
    "    CALL {\n",
    "        MATCH p=(u1:User)-[i:INTERACTION]-(u2:User) \n",
    "        WHERE u1.id < u2.id AND i.set = \"default\"\n",
    "        RETURN u1, u2, p, i\n",
    "    }\n",
    "    WITH i\n",
    "    SET i.gt_tie_strength = (i.min_local_clustering_coefficient * 0.5) + (i.neighbourhood_overlap * 0.5) \n",
    "''')"
   ]
  },
  {
   "cell_type": "code",
   "execution_count": 6,
   "metadata": {},
   "outputs": [],
   "source": [
    "with driver.session() as session:\n",
    "    result = session.run('''\n",
    "    WITH \"MATCH (u1:User) -[i:INTERACTION]- (u2:User)\n",
    "        WHERE u1.id < u2.id\n",
    "        RETURN 'u' + u1.id AS `:START_ID`, 'u' + u2.id AS `:END_ID`, i.postings AS `postings:long`, i.channels AS `channels:long`, i.upvotes AS `upvotes:long`, i.downvotes AS `downvotes:long`, i.follows AS `follows:long`, i.ignores AS `ignores:long`, i.set AS `set`, i.neighbourhood_overlap AS `neighbourhood_overlap:float`, i.min_local_clustering_coefficient AS `min_local_clustering_coefficient:float`, i.gt_tie_strength AS `gt_tie_strength:float`\n",
    "        ORDER BY u1.id, u2.id\" AS query\n",
    "    CALL apoc.export.csv.query(query, \"interaction.csv\", {quotes: \"ifNeeded\"})\n",
    "    YIELD file, source, format, nodes, relationships, properties, time, rows, batchSize, batches, done, data\n",
    "    RETURN file, source, format, nodes, relationships, properties, time, rows, batchSize, batches, done, data\n",
    "''')"
   ]
  },
  {
   "cell_type": "code",
   "execution_count": 7,
   "metadata": {},
   "outputs": [
    {
     "name": "stdout",
     "output_type": "stream",
     "text": [
      "\u001b[sPreparing to copy...\u001b[?25l\u001b[u\u001b[2KCopying from container - 0B\u001b[26G\u001b[0K21.9MB\u001b[26G\u001b[0K44.5MB\u001b[26G\u001b[0K68.9MB\u001b[?25h\u001b[u\u001b[2KSuccessfully copied 86MB to /home/christopher/projects/tu-vienna/tie-strength-prediction/graph/\n"
     ]
    }
   ],
   "source": [
    "!docker cp tie-strength-prediction-neo4j-1:/var/lib/neo4j/import/interaction.csv graph/"
   ]
  },
  {
   "cell_type": "markdown",
   "metadata": {},
   "source": [
    "## Feature Genration"
   ]
  },
  {
   "cell_type": "markdown",
   "metadata": {},
   "source": [
    "Interaction Frequency:"
   ]
  },
  {
   "cell_type": "code",
   "execution_count": null,
   "metadata": {},
   "outputs": [],
   "source": [
    "with driver.session() as session:\n",
    "    result = session.run('''\n",
    "    CALL {\n",
    "        MATCH p=(u1:User)-[i:INTERACTION]-(u2:User) \n",
    "        WHERE u1.id < u2.id AND i.set = \"default\"\n",
    "        RETURN u1, u2, p, i\n",
    "    }\n",
    "    WITH i\n",
    "    SET i.interaction_frequency = i.upvotes + i.downvotes + i.postings\n",
    "''')"
   ]
  },
  {
   "cell_type": "markdown",
   "metadata": {},
   "source": [
    "Sentiment:"
   ]
  },
  {
   "cell_type": "code",
   "execution_count": null,
   "metadata": {},
   "outputs": [],
   "source": [
    "with driver.session() as session:\n",
    "    result = session.run('''\n",
    "    CALL {\n",
    "        MATCH p=(u1:User)-[i:INTERACTION]-(u2:User) \n",
    "        WHERE u1.id < u2.id AND i.set = \"default\"\n",
    "        RETURN u1, u2, p, i\n",
    "    }\n",
    "    WITH i\n",
    "    SET i.sentiment = ((i.upvotes / (i.upvotes + i.downvotes)) * (0.5)) + ((i.follows / (i.follows + i.ignores)) * (0.5))\n",
    "''')"
   ]
  },
  {
   "cell_type": "markdown",
   "metadata": {},
   "source": [
    "Closeness:"
   ]
  },
  {
   "cell_type": "code",
   "execution_count": null,
   "metadata": {},
   "outputs": [],
   "source": [
    "with driver.session() as session:\n",
    "    result = session.run('''\n",
    "    CALL {\n",
    "        MATCH p=(u1:User)-[i:INTERACTION]-(u2:User) \n",
    "        WHERE u1.id < u2.id AND i.set = \"default\"\n",
    "        RETURN u1, u2, p, i\n",
    "    }\n",
    "    WITH u1, u2, p, i\n",
    "    CALL {\n",
    "        WITH u1, u2\n",
    "        MATCH pn=(u1)-[i1:INTERACTION]-(un:User)-[i2:INTERACTION]-(u2)\n",
    "        WHERE un.id <> u1.id AND un.id <> u2.id AND i1.following = 2 AND i2.following = 2 AND i1.set = \"default\" AND i1.set = \"default\" \n",
    "        RETURN COUNT(DISTINCT un) as common_friends\n",
    "    }\n",
    "    WITH i, common_friends\n",
    "    SET i.closeness = common_friends\n",
    "''')"
   ]
  },
  {
   "cell_type": "markdown",
   "metadata": {},
   "source": [
    "Reciprocity"
   ]
  },
  {
   "cell_type": "code",
   "execution_count": null,
   "metadata": {},
   "outputs": [],
   "source": [
    "with driver.session() as session:\n",
    "    result = session.run('''\n",
    "    CALL {\n",
    "        MATCH p=(u1:User)-[i:INTERACTION]-(u2:User) \n",
    "        WHERE u1.id < u2.id AND i.set = \"default\"\n",
    "        RETURN u1, u2, p, i\n",
    "    }\n",
    "    WITH u1, u2, p, i\n",
    "    WITH i, toInteger(i.following = 2) as bidirectional_following\n",
    "    SET i.reciprocity = bidirectional_following\n",
    "''')"
   ]
  },
  {
   "cell_type": "markdown",
   "metadata": {},
   "source": [
    "Multiplexity"
   ]
  },
  {
   "cell_type": "code",
   "execution_count": null,
   "metadata": {},
   "outputs": [],
   "source": [
    "with driver.session() as session:\n",
    "    result = session.run('''\n",
    "    CALL {\n",
    "        MATCH p=(u1:User)-[i:INTERACTION]-(u2:User) \n",
    "        WHERE u1.id < u2.id AND i.set = \"default\"\n",
    "        RETURN u1, u2, p, i\n",
    "    }\n",
    "    WITH i\n",
    "    SET i.multiplexity = channels\n",
    "''')"
   ]
  },
  {
   "cell_type": "markdown",
   "metadata": {},
   "source": [
    "## Split Generation"
   ]
  },
  {
   "cell_type": "code",
   "execution_count": null,
   "metadata": {},
   "outputs": [],
   "source": []
  }
 ],
 "metadata": {
  "kernelspec": {
   "display_name": "venv",
   "language": "python",
   "name": "python3"
  },
  "language_info": {
   "codemirror_mode": {
    "name": "ipython",
    "version": 3
   },
   "file_extension": ".py",
   "mimetype": "text/x-python",
   "name": "python",
   "nbconvert_exporter": "python",
   "pygments_lexer": "ipython3",
   "version": "3.11.5"
  }
 },
 "nbformat": 4,
 "nbformat_minor": 2
}
