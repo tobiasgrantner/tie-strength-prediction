{
 "cells": [
  {
   "cell_type": "markdown",
   "metadata": {},
   "source": [
    "# Data Preparation"
   ]
  },
  {
   "cell_type": "markdown",
   "metadata": {},
   "source": [
    "## Setup"
   ]
  },
  {
   "cell_type": "code",
   "execution_count": 1,
   "metadata": {},
   "outputs": [],
   "source": [
    "from neo4j import GraphDatabase\n",
    "\n",
    "uri = \"neo4j://localhost:7687\"\n",
    "driver = GraphDatabase.driver(uri)"
   ]
  },
  {
   "cell_type": "markdown",
   "metadata": {},
   "source": [
    "## Sampling"
   ]
  },
  {
   "cell_type": "markdown",
   "metadata": {},
   "source": [
    "Sample random interactions:"
   ]
  },
  {
   "cell_type": "code",
   "execution_count": 7,
   "metadata": {},
   "outputs": [],
   "source": [
    "sample_size = 10000"
   ]
  },
  {
   "cell_type": "code",
   "execution_count": 8,
   "metadata": {},
   "outputs": [],
   "source": [
    "with driver.session() as session:\n",
    "    result = session.run(f'''\n",
    "    CALL {{\n",
    "        MATCH p=(u1:User)-[i:INTERACTION]-(u2:User) \n",
    "        WHERE u1.id < u2.id \n",
    "        RETURN p, rand() as r, i \n",
    "        ORDER BY r\n",
    "        LIMIT {sample_size}\n",
    "    }}\n",
    "    SET i.set = \"default\"\n",
    "''')"
   ]
  },
  {
   "cell_type": "code",
   "execution_count": 13,
   "metadata": {},
   "outputs": [],
   "source": [
    "with driver.session() as session:\n",
    "    result = session.run('''\n",
    "    WITH \"MATCH (u1:User) -[i:INTERACTION]- (u2:User)\n",
    "        WHERE u1.id < u2.id\n",
    "        RETURN 'u' + u1.id AS `:START_ID`, 'u' + u2.id AS `:END_ID`, i.postings AS `postings:long`, i.channels AS `channels:long`, i.upvotes AS `upvotes:long`, i.downvotes AS `downvotes:long`, i.follows AS `follows:long`, i.ignores AS `ignores:long`, i.set\n",
    "        ORDER BY u1.id, u2.id\" AS query\n",
    "    CALL apoc.export.csv.query(query, \"interactions.csv\", {quotes: \"ifNeeded\"})\n",
    "    YIELD file, source, format, nodes, relationships, properties, time, rows, batchSize, batches, done, data\n",
    "    RETURN file, source, format, nodes, relationships, properties, time, rows, batchSize, batches, done, data\n",
    "''')"
   ]
  },
  {
   "cell_type": "code",
   "execution_count": 12,
   "metadata": {},
   "outputs": [
    {
     "name": "stdout",
     "output_type": "stream",
     "text": [
      "\u001b[sPreparing to copy...\u001b[?25l\u001b[u\u001b[2KCopying from container - 0B\u001b[26G\u001b[0K22.4MB\u001b[26G\u001b[0K45.4MB\u001b[26G\u001b[0K60.6MB\u001b[26G\u001b[0K67.1MB\u001b[?25h\u001b[u\u001b[2KSuccessfully copied 76.6MB to /home/christopher/projects/tu-vienna/tie-strength-prediction/graph/\n"
     ]
    }
   ],
   "source": [
    "!docker cp tie-strength-prediction-neo4j-1:/var/lib/neo4j/import/interactions.csv graph/"
   ]
  },
  {
   "cell_type": "markdown",
   "metadata": {},
   "source": [
    "## Ground Truth Generation"
   ]
  },
  {
   "cell_type": "markdown",
   "metadata": {},
   "source": [
    "Calculate Neighborhood Overlap:"
   ]
  },
  {
   "cell_type": "code",
   "execution_count": 2,
   "metadata": {},
   "outputs": [],
   "source": [
    "with driver.session() as session:\n",
    "    result = session.run('''\n",
    "    CALL {\n",
    "        MATCH p=(u1:User)-[i:INTERACTION]-(u2:User) \n",
    "        WHERE u1.id < u2.id AND i.set = \"default\"\n",
    "        RETURN u1, u2, p, i\n",
    "    }\n",
    "    WITH u1, u2, i\n",
    "    CALL {\n",
    "        WITH u1, u2\n",
    "        MATCH pn=(ut)-[r:INTERACTION]-(un:User) \n",
    "        WHERE (ut.id = u1.id OR ut.id = u2.id) AND un.id <> ut.id AND r.set = \"default\"\n",
    "        RETURN COUNT(DISTINCT un) as un_union\n",
    "    }\n",
    "    CALL {\n",
    "        WITH u1, u2\n",
    "        MATCH pn=(u1)-[r:INTERACTION]-(un:User)-[:INTERACTION]-(u2)\n",
    "        WHERE un.id <> u1.id AND un.id <> u2.id AND r.set = \"default\" \n",
    "        RETURN COUNT(DISTINCT un) as un_intersection\n",
    "    }\n",
    "    WITH i, toFloat(un_intersection) / (toFloat(un_union)-2.0) as un_overlap\n",
    "    CALL {\n",
    "        WITH i, un_overlap\n",
    "        SET i.neighbourhood_overlap = un_overlap          \n",
    "    } IN TRANSACTIONS OF 100 ROWS\n",
    "''')"
   ]
  },
  {
   "cell_type": "code",
   "execution_count": 12,
   "metadata": {},
   "outputs": [],
   "source": [
    "with driver.session() as session:\n",
    "    result = session.run('''\n",
    "    WITH \"MATCH (u1:User) -[i:INTERACTION]- (u2:User)\n",
    "        WHERE u1.id < u2.id\n",
    "        RETURN 'u' + u1.id AS `:START_ID`, 'u' + u2.id AS `:END_ID`, i.postings AS `postings:long`, i.channels AS `channels:long`, i.upvotes AS `upvotes:long`, i.downvotes AS `downvotes:long`, i.follows AS `follows:long`, i.ignores AS `ignores:long`, i.set, i.neighbourhood_overlap AS `neighbourhood_overlap:float`\n",
    "        ORDER BY u1.id, u2.id\" AS query\n",
    "    CALL apoc.export.csv.query(query, \"interaction.csv\", {quotes: \"ifNeeded\"})\n",
    "    YIELD file, source, format, nodes, relationships, properties, time, rows, batchSize, batches, done, data\n",
    "    RETURN file, source, format, nodes, relationships, properties, time, rows, batchSize, batches, done, data\n",
    "''')"
   ]
  },
  {
   "cell_type": "code",
   "execution_count": 13,
   "metadata": {},
   "outputs": [
    {
     "name": "stdout",
     "output_type": "stream",
     "text": [
      "\u001b[sPreparing to copy...\u001b[?25l\u001b[u\u001b[2KCopying from container - 0B"
     ]
    },
    {
     "name": "stdout",
     "output_type": "stream",
     "text": [
      "\u001b[26G\u001b[0K23.6MB\u001b[26G\u001b[0K42.3MB\u001b[26G\u001b[0K67.6MB\u001b[?25h\u001b[u\u001b[2KSuccessfully copied 79.7MB to /home/christopher/projects/tu-vienna/tie-strength-prediction/graph/\n"
     ]
    }
   ],
   "source": [
    "!docker cp tie-strength-prediction-neo4j-1:/var/lib/neo4j/import/interaction.csv graph/"
   ]
  },
  {
   "cell_type": "markdown",
   "metadata": {},
   "source": [
    "Local Clustering Coefficient:"
   ]
  },
  {
   "cell_type": "code",
   "execution_count": 20,
   "metadata": {},
   "outputs": [],
   "source": [
    "with driver.session() as session:\n",
    "    result = session.run('''\n",
    "    CALL {\n",
    "        MATCH p=(u:User)-[i:INTERACTION]-(un:User)\n",
    "        WHERE u.id < un.id AND i.set = \"default\"\n",
    "        RETURN u, COUNT(i) as k\n",
    "    }\n",
    "    WITH u, k\n",
    "    CALL {\n",
    "        WITH u\n",
    "        MATCH pn=(un1:User)-[r1:INTERACTION]-(u)-[r2:INTERACTION]-(un2:User),\n",
    "        (un1)-[i:INTERACTION]-(un2)\n",
    "        WHERE un1.id < un2.id AND u.id < un1.id AND u.id < un2.id AND r1.set = \"default\" AND r2.set = \"default\" AND i.set = \"default\"\n",
    "        RETURN COUNT(DISTINCT i) as e\n",
    "    }\n",
    "    WITH u, toFloat(k) as float_k, toFloat(e) as float_e\n",
    "    SET u.local_clustering_coefficient = (2.0 * float_e) / (float_k*(float_k - 1.0))\n",
    "''')"
   ]
  },
  {
   "cell_type": "markdown",
   "metadata": {},
   "source": [
    "Min Local Clustering Coefficient:"
   ]
  },
  {
   "cell_type": "code",
   "execution_count": 22,
   "metadata": {},
   "outputs": [],
   "source": [
    "with driver.session() as session:\n",
    "    result = session.run('''\n",
    "    CALL {\n",
    "        MATCH p=(u1:User)-[i:INTERACTION]-(u2:User) \n",
    "        WHERE u1.id < u2.id AND i.set = \"default\"\n",
    "        RETURN u1, u2, p, i\n",
    "    }\n",
    "    WITH u1, u2, i,\n",
    "        CASE WHEN u1.local_clustering_coefficient < u2.local_clustering_coefficient\n",
    "            THEN u1.local_clustering_coefficient\n",
    "            ELSE u2.local_clustering_coefficient\n",
    "        END AS min_local_clusterin_coefficient\n",
    "    SET i.min_local_clustering_coefficient = min_local_clusterin_coefficient\n",
    "''')"
   ]
  },
  {
   "cell_type": "code",
   "execution_count": 23,
   "metadata": {},
   "outputs": [
    {
     "name": "stderr",
     "output_type": "stream",
     "text": [
      "Failed to read from defunct connection IPv4Address(('localhost', 7687)) (ResolvedIPv4Address(('127.0.0.1', 7687)))\n"
     ]
    }
   ],
   "source": [
    "with driver.session() as session:\n",
    "    result = session.run('''\n",
    "    WITH \"MATCH (u1:User) -[i:INTERACTION]- (u2:User)\n",
    "        WHERE u1.id < u2.id\n",
    "        RETURN 'u' + u1.id AS `:START_ID`, 'u' + u2.id AS `:END_ID`, i.postings AS `postings:long`, i.channels AS `channels:long`, i.upvotes AS `upvotes:long`, i.downvotes AS `downvotes:long`, i.follows AS `follows:long`, i.ignores AS `ignores:long`, i.set, i.neighbourhood_overlap AS `neighbourhood_overlap:float`, i.min_local_clustering_coefficient AS `min_local_clustering_coefficient:float`\n",
    "        ORDER BY u1.id, u2.id\" AS query\n",
    "    CALL apoc.export.csv.query(query, \"interaction.csv\", {quotes: \"ifNeeded\"})\n",
    "    YIELD file, source, format, nodes, relationships, properties, time, rows, batchSize, batches, done, data\n",
    "    RETURN file, source, format, nodes, relationships, properties, time, rows, batchSize, batches, done, data\n",
    "''')"
   ]
  },
  {
   "cell_type": "code",
   "execution_count": 24,
   "metadata": {},
   "outputs": [
    {
     "name": "stdout",
     "output_type": "stream",
     "text": [
      "\u001b[sPreparing to copy...\u001b[?25l\u001b[u\u001b[2KCopying from container - 0B\u001b[26G\u001b[0K10.4MB\u001b[26G\u001b[0K23.9MB\u001b[26G\u001b[0K34.7MB\u001b[26G\u001b[0K39.8MB\u001b[26G\u001b[0K42.3MB\u001b[26G\u001b[0K43.2MB\u001b[26G\u001b[0K44.9MB\u001b[26G\u001b[0K51.5MB\u001b[26G\u001b[0K59.7MB\u001b[26G\u001b[0K67.8MB\u001b[?25h\u001b[u\u001b[2KSuccessfully copied 82.1MB to /home/christopher/projects/tu-vienna/tie-strength-prediction/graph/\n"
     ]
    }
   ],
   "source": [
    "!docker cp tie-strength-prediction-neo4j-1:/var/lib/neo4j/import/interaction.csv graph/"
   ]
  },
  {
   "cell_type": "markdown",
   "metadata": {},
   "source": [
    "Tie Strength:"
   ]
  },
  {
   "cell_type": "code",
   "execution_count": 2,
   "metadata": {},
   "outputs": [
    {
     "name": "stderr",
     "output_type": "stream",
     "text": [
      "Unable to retrieve routing information\n"
     ]
    },
    {
     "ename": "ServiceUnavailable",
     "evalue": "Unable to retrieve routing information",
     "output_type": "error",
     "traceback": [
      "\u001b[0;31m---------------------------------------------------------------------------\u001b[0m",
      "\u001b[0;31mServiceUnavailable\u001b[0m                        Traceback (most recent call last)",
      "Cell \u001b[0;32mIn[2], line 2\u001b[0m\n\u001b[1;32m      1\u001b[0m \u001b[38;5;28;01mwith\u001b[39;00m driver\u001b[38;5;241m.\u001b[39msession() \u001b[38;5;28;01mas\u001b[39;00m session:\n\u001b[0;32m----> 2\u001b[0m     result \u001b[38;5;241m=\u001b[39m \u001b[43msession\u001b[49m\u001b[38;5;241;43m.\u001b[39;49m\u001b[43mrun\u001b[49m\u001b[43m(\u001b[49m\u001b[38;5;124;43m'''\u001b[39;49m\n\u001b[1;32m      3\u001b[0m \u001b[38;5;124;43m    CALL \u001b[39;49m\u001b[38;5;124;43m{\u001b[39;49m\n\u001b[1;32m      4\u001b[0m \u001b[38;5;124;43m        MATCH p=(u1:User)-[i:INTERACTION]-(u2:User) \u001b[39;49m\n\u001b[1;32m      5\u001b[0m \u001b[38;5;124;43m        WHERE u1.id < u2.id AND i.set = \u001b[39;49m\u001b[38;5;124;43m\"\u001b[39;49m\u001b[38;5;124;43mdefault\u001b[39;49m\u001b[38;5;124;43m\"\u001b[39;49m\n\u001b[1;32m      6\u001b[0m \u001b[38;5;124;43m        RETURN u1, u2, p, i\u001b[39;49m\n\u001b[1;32m      7\u001b[0m \u001b[38;5;124;43m    }\u001b[39;49m\n\u001b[1;32m      8\u001b[0m \u001b[38;5;124;43m    WITH i\u001b[39;49m\n\u001b[1;32m      9\u001b[0m \u001b[38;5;124;43m    SET i.gt_tie_strength = (i.min_local_clustering_coefficient * 0.5) + (i.neighbourhood_overlap * 0.5) \u001b[39;49m\n\u001b[1;32m     10\u001b[0m \u001b[38;5;124;43m'''\u001b[39;49m\u001b[43m)\u001b[49m\n",
      "File \u001b[0;32m~/projects/tu-vienna/tie-strength-prediction/venv/lib/python3.11/site-packages/neo4j/_sync/work/session.py:302\u001b[0m, in \u001b[0;36mSession.run\u001b[0;34m(self, query, parameters, **kwargs)\u001b[0m\n\u001b[1;32m    299\u001b[0m     \u001b[38;5;28mself\u001b[39m\u001b[38;5;241m.\u001b[39m_auto_result\u001b[38;5;241m.\u001b[39m_buffer_all()\n\u001b[1;32m    301\u001b[0m \u001b[38;5;28;01mif\u001b[39;00m \u001b[38;5;129;01mnot\u001b[39;00m \u001b[38;5;28mself\u001b[39m\u001b[38;5;241m.\u001b[39m_connection:\n\u001b[0;32m--> 302\u001b[0m     \u001b[38;5;28;43mself\u001b[39;49m\u001b[38;5;241;43m.\u001b[39;49m\u001b[43m_connect\u001b[49m\u001b[43m(\u001b[49m\u001b[38;5;28;43mself\u001b[39;49m\u001b[38;5;241;43m.\u001b[39;49m\u001b[43m_config\u001b[49m\u001b[38;5;241;43m.\u001b[39;49m\u001b[43mdefault_access_mode\u001b[49m\u001b[43m)\u001b[49m\n\u001b[1;32m    303\u001b[0m     \u001b[38;5;28;01massert\u001b[39;00m \u001b[38;5;28mself\u001b[39m\u001b[38;5;241m.\u001b[39m_connection \u001b[38;5;129;01mis\u001b[39;00m \u001b[38;5;129;01mnot\u001b[39;00m \u001b[38;5;28;01mNone\u001b[39;00m\n\u001b[1;32m    304\u001b[0m cx \u001b[38;5;241m=\u001b[39m \u001b[38;5;28mself\u001b[39m\u001b[38;5;241m.\u001b[39m_connection\n",
      "File \u001b[0;32m~/projects/tu-vienna/tie-strength-prediction/venv/lib/python3.11/site-packages/neo4j/_sync/work/session.py:130\u001b[0m, in \u001b[0;36mSession._connect\u001b[0;34m(self, access_mode, **acquire_kwargs)\u001b[0m\n\u001b[1;32m    128\u001b[0m     access_mode \u001b[38;5;241m=\u001b[39m \u001b[38;5;28mself\u001b[39m\u001b[38;5;241m.\u001b[39m_config\u001b[38;5;241m.\u001b[39mdefault_access_mode\n\u001b[1;32m    129\u001b[0m \u001b[38;5;28;01mtry\u001b[39;00m:\n\u001b[0;32m--> 130\u001b[0m     \u001b[38;5;28;43msuper\u001b[39;49m\u001b[43m(\u001b[49m\u001b[43m)\u001b[49m\u001b[38;5;241;43m.\u001b[39;49m\u001b[43m_connect\u001b[49m\u001b[43m(\u001b[49m\n\u001b[1;32m    131\u001b[0m \u001b[43m        \u001b[49m\u001b[43maccess_mode\u001b[49m\u001b[43m,\u001b[49m\u001b[43m \u001b[49m\u001b[43mauth\u001b[49m\u001b[38;5;241;43m=\u001b[39;49m\u001b[38;5;28;43mself\u001b[39;49m\u001b[38;5;241;43m.\u001b[39;49m\u001b[43m_config\u001b[49m\u001b[38;5;241;43m.\u001b[39;49m\u001b[43mauth\u001b[49m\u001b[43m,\u001b[49m\u001b[43m \u001b[49m\u001b[38;5;241;43m*\u001b[39;49m\u001b[38;5;241;43m*\u001b[39;49m\u001b[43macquire_kwargs\u001b[49m\n\u001b[1;32m    132\u001b[0m \u001b[43m    \u001b[49m\u001b[43m)\u001b[49m\n\u001b[1;32m    133\u001b[0m \u001b[38;5;28;01mexcept\u001b[39;00m asyncio\u001b[38;5;241m.\u001b[39mCancelledError:\n\u001b[1;32m    134\u001b[0m     \u001b[38;5;28mself\u001b[39m\u001b[38;5;241m.\u001b[39m_handle_cancellation(message\u001b[38;5;241m=\u001b[39m\u001b[38;5;124m\"\u001b[39m\u001b[38;5;124m_connect\u001b[39m\u001b[38;5;124m\"\u001b[39m)\n",
      "File \u001b[0;32m~/projects/tu-vienna/tie-strength-prediction/venv/lib/python3.11/site-packages/neo4j/_sync/work/workspace.py:161\u001b[0m, in \u001b[0;36mWorkspace._connect\u001b[0;34m(self, access_mode, auth, **acquire_kwargs)\u001b[0m\n\u001b[1;32m    153\u001b[0m     \u001b[38;5;28;01melse\u001b[39;00m:\n\u001b[1;32m    154\u001b[0m         \u001b[38;5;66;03m# This is the first time we open a connection to a server in a\u001b[39;00m\n\u001b[1;32m    155\u001b[0m         \u001b[38;5;66;03m# cluster environment for this session without explicitly\u001b[39;00m\n\u001b[0;32m   (...)\u001b[0m\n\u001b[1;32m    158\u001b[0m         \u001b[38;5;66;03m# we shall use this database explicitly for all subsequent\u001b[39;00m\n\u001b[1;32m    159\u001b[0m         \u001b[38;5;66;03m# actions within this session.\u001b[39;00m\n\u001b[1;32m    160\u001b[0m         log\u001b[38;5;241m.\u001b[39mdebug(\u001b[38;5;124m\"\u001b[39m\u001b[38;5;124m[#0000]  _: <WORKSPACE> resolve home database\u001b[39m\u001b[38;5;124m\"\u001b[39m)\n\u001b[0;32m--> 161\u001b[0m         \u001b[38;5;28;43mself\u001b[39;49m\u001b[38;5;241;43m.\u001b[39;49m\u001b[43m_pool\u001b[49m\u001b[38;5;241;43m.\u001b[39;49m\u001b[43mupdate_routing_table\u001b[49m\u001b[43m(\u001b[49m\n\u001b[1;32m    162\u001b[0m \u001b[43m            \u001b[49m\u001b[43mdatabase\u001b[49m\u001b[38;5;241;43m=\u001b[39;49m\u001b[38;5;28;43mself\u001b[39;49m\u001b[38;5;241;43m.\u001b[39;49m\u001b[43m_config\u001b[49m\u001b[38;5;241;43m.\u001b[39;49m\u001b[43mdatabase\u001b[49m\u001b[43m,\u001b[49m\n\u001b[1;32m    163\u001b[0m \u001b[43m            \u001b[49m\u001b[43mimp_user\u001b[49m\u001b[38;5;241;43m=\u001b[39;49m\u001b[38;5;28;43mself\u001b[39;49m\u001b[38;5;241;43m.\u001b[39;49m\u001b[43m_config\u001b[49m\u001b[38;5;241;43m.\u001b[39;49m\u001b[43mimpersonated_user\u001b[49m\u001b[43m,\u001b[49m\n\u001b[1;32m    164\u001b[0m \u001b[43m            \u001b[49m\u001b[43mbookmarks\u001b[49m\u001b[38;5;241;43m=\u001b[39;49m\u001b[38;5;28;43mself\u001b[39;49m\u001b[38;5;241;43m.\u001b[39;49m\u001b[43m_get_bookmarks\u001b[49m\u001b[43m(\u001b[49m\u001b[43m)\u001b[49m\u001b[43m,\u001b[49m\n\u001b[1;32m    165\u001b[0m \u001b[43m            \u001b[49m\u001b[43mauth\u001b[49m\u001b[38;5;241;43m=\u001b[39;49m\u001b[43mauth\u001b[49m\u001b[43m,\u001b[49m\n\u001b[1;32m    166\u001b[0m \u001b[43m            \u001b[49m\u001b[43macquisition_timeout\u001b[49m\u001b[38;5;241;43m=\u001b[39;49m\u001b[43macquisition_timeout\u001b[49m\u001b[43m,\u001b[49m\n\u001b[1;32m    167\u001b[0m \u001b[43m            \u001b[49m\u001b[43mdatabase_callback\u001b[49m\u001b[38;5;241;43m=\u001b[39;49m\u001b[38;5;28;43mself\u001b[39;49m\u001b[38;5;241;43m.\u001b[39;49m\u001b[43m_set_cached_database\u001b[49m\n\u001b[1;32m    168\u001b[0m \u001b[43m        \u001b[49m\u001b[43m)\u001b[49m\n\u001b[1;32m    169\u001b[0m acquire_kwargs_ \u001b[38;5;241m=\u001b[39m {\n\u001b[1;32m    170\u001b[0m     \u001b[38;5;124m\"\u001b[39m\u001b[38;5;124maccess_mode\u001b[39m\u001b[38;5;124m\"\u001b[39m: access_mode,\n\u001b[1;32m    171\u001b[0m     \u001b[38;5;124m\"\u001b[39m\u001b[38;5;124mtimeout\u001b[39m\u001b[38;5;124m\"\u001b[39m: acquisition_timeout,\n\u001b[0;32m   (...)\u001b[0m\n\u001b[1;32m    175\u001b[0m     \u001b[38;5;124m\"\u001b[39m\u001b[38;5;124mliveness_check_timeout\u001b[39m\u001b[38;5;124m\"\u001b[39m: \u001b[38;5;28;01mNone\u001b[39;00m,\n\u001b[1;32m    176\u001b[0m }\n\u001b[1;32m    177\u001b[0m acquire_kwargs_\u001b[38;5;241m.\u001b[39mupdate(acquire_kwargs)\n",
      "File \u001b[0;32m~/projects/tu-vienna/tie-strength-prediction/venv/lib/python3.11/site-packages/neo4j/_sync/io/_pool.py:804\u001b[0m, in \u001b[0;36mNeo4jPool.update_routing_table\u001b[0;34m(self, database, imp_user, bookmarks, auth, acquisition_timeout, database_callback)\u001b[0m\n\u001b[1;32m    802\u001b[0m \u001b[38;5;66;03m# None of the routers have been successful, so just fail\u001b[39;00m\n\u001b[1;32m    803\u001b[0m log\u001b[38;5;241m.\u001b[39merror(\u001b[38;5;124m\"\u001b[39m\u001b[38;5;124mUnable to retrieve routing information\u001b[39m\u001b[38;5;124m\"\u001b[39m)\n\u001b[0;32m--> 804\u001b[0m \u001b[38;5;28;01mraise\u001b[39;00m ServiceUnavailable(\u001b[38;5;124m\"\u001b[39m\u001b[38;5;124mUnable to retrieve routing information\u001b[39m\u001b[38;5;124m\"\u001b[39m)\n",
      "\u001b[0;31mServiceUnavailable\u001b[0m: Unable to retrieve routing information"
     ]
    }
   ],
   "source": [
    "with driver.session() as session:\n",
    "    result = session.run('''\n",
    "    CALL {\n",
    "        MATCH p=(u1:User)-[i:INTERACTION]-(u2:User) \n",
    "        WHERE u1.id < u2.id AND i.set = \"default\"\n",
    "        RETURN u1, u2, p, i\n",
    "    }\n",
    "    WITH i\n",
    "    SET i.gt_tie_strength = (i.min_local_clustering_coefficient * 0.5) + (i.neighbourhood_overlap * 0.5) \n",
    "''')"
   ]
  },
  {
   "cell_type": "markdown",
   "metadata": {},
   "source": [
    "## Feature Genration"
   ]
  },
  {
   "cell_type": "markdown",
   "metadata": {},
   "source": [
    "Interaction Frequency:"
   ]
  },
  {
   "cell_type": "code",
   "execution_count": null,
   "metadata": {},
   "outputs": [],
   "source": [
    "with driver.session() as session:\n",
    "    result = session.run('''\n",
    "    CALL {\n",
    "        MATCH p=(u1:User)-[i:INTERACTION]-(u2:User) \n",
    "        WHERE u1.id < u2.id AND i.set = \"default\"\n",
    "        RETURN u1, u2, p, i\n",
    "    }\n",
    "    WITH i\n",
    "    SET i.interaction_frequency = i.upvotes + i.downvotes + i.postings\n",
    "''')"
   ]
  },
  {
   "cell_type": "markdown",
   "metadata": {},
   "source": [
    "Sentiment:"
   ]
  },
  {
   "cell_type": "code",
   "execution_count": null,
   "metadata": {},
   "outputs": [],
   "source": [
    "with driver.session() as session:\n",
    "    result = session.run('''\n",
    "    CALL {\n",
    "        MATCH p=(u1:User)-[i:INTERACTION]-(u2:User) \n",
    "        WHERE u1.id < u2.id AND i.set = \"default\"\n",
    "        RETURN u1, u2, p, i\n",
    "    }\n",
    "    WITH i\n",
    "    SET i.sentiment = ((i.upvotes / (i.upvotes + i.downvotes)) * (0.5)) + ((i.follows / (i.follows + i.ignores)) * (0.5))\n",
    "''')"
   ]
  },
  {
   "cell_type": "markdown",
   "metadata": {},
   "source": [
    "Closeness:"
   ]
  },
  {
   "cell_type": "code",
   "execution_count": null,
   "metadata": {},
   "outputs": [],
   "source": [
    "with driver.session() as session:\n",
    "    result = session.run('''\n",
    "    CALL {\n",
    "        MATCH p=(u1:User)-[i:INTERACTION]-(u2:User) \n",
    "        WHERE u1.id < u2.id AND i.set = \"default\"\n",
    "        RETURN u1, u2, p, i\n",
    "    }\n",
    "    WITH u1, u2, p, i\n",
    "    CALL {\n",
    "        WITH u1, u2\n",
    "        MATCH pn=(u1)-[i1:INTERACTION]-(un:User)-[i2:INTERACTION]-(u2)\n",
    "        WHERE un.id <> u1.id AND un.id <> u2.id AND i1.following = 2 AND i2.following = 2 AND i1.set = \"default\" AND i1.set = \"default\" \n",
    "        RETURN COUNT(DISTINCT un) as common_friends\n",
    "    }\n",
    "    WITH i, common_friends\n",
    "    SET i.closeness = common_friends\n",
    "''')"
   ]
  },
  {
   "cell_type": "markdown",
   "metadata": {},
   "source": [
    "Reciprocity"
   ]
  },
  {
   "cell_type": "code",
   "execution_count": null,
   "metadata": {},
   "outputs": [],
   "source": [
    "with driver.session() as session:\n",
    "    result = session.run('''\n",
    "    CALL {\n",
    "        MATCH p=(u1:User)-[i:INTERACTION]-(u2:User) \n",
    "        WHERE u1.id < u2.id AND i.set = \"default\"\n",
    "        RETURN u1, u2, p, i\n",
    "    }\n",
    "    WITH u1, u2, p, i\n",
    "    WITH i, toInteger(i.following = 2) as bidirectional_following\n",
    "    SET i.reciprocity = bidirectional_following\n",
    "''')"
   ]
  },
  {
   "cell_type": "markdown",
   "metadata": {},
   "source": [
    "Multiplexity"
   ]
  },
  {
   "cell_type": "code",
   "execution_count": null,
   "metadata": {},
   "outputs": [],
   "source": [
    "with driver.session() as session:\n",
    "    result = session.run('''\n",
    "    CALL {\n",
    "        MATCH p=(u1:User)-[i:INTERACTION]-(u2:User) \n",
    "        WHERE u1.id < u2.id AND i.set = \"default\"\n",
    "        RETURN u1, u2, p, i\n",
    "    }\n",
    "    WITH i\n",
    "    SET i.multiplexity = channels\n",
    "''')"
   ]
  },
  {
   "cell_type": "markdown",
   "metadata": {},
   "source": [
    "## Split Generation"
   ]
  }
 ],
 "metadata": {
  "kernelspec": {
   "display_name": "venv",
   "language": "python",
   "name": "python3"
  },
  "language_info": {
   "codemirror_mode": {
    "name": "ipython",
    "version": 3
   },
   "file_extension": ".py",
   "mimetype": "text/x-python",
   "name": "python",
   "nbconvert_exporter": "python",
   "pygments_lexer": "ipython3",
   "version": "3.11.5"
  }
 },
 "nbformat": 4,
 "nbformat_minor": 2
}
