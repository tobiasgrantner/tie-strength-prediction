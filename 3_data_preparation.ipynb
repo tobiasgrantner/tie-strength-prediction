{
 "cells": [
  {
   "cell_type": "markdown",
   "metadata": {},
   "source": [
    "# Data Preparation"
   ]
  },
  {
   "cell_type": "markdown",
   "metadata": {},
   "source": [
    "## Setup"
   ]
  },
  {
   "cell_type": "code",
   "execution_count": 1,
   "metadata": {},
   "outputs": [],
   "source": [
    "from neo4j import GraphDatabase\n",
    "\n",
    "uri = \"neo4j://localhost:7687\"\n",
    "driver = GraphDatabase.driver(uri)"
   ]
  },
  {
   "cell_type": "markdown",
   "metadata": {},
   "source": [
    "## Ground Truth Generation"
   ]
  },
  {
   "cell_type": "markdown",
   "metadata": {},
   "source": [
    "Calculate Neighborhood Overlap:"
   ]
  },
  {
   "cell_type": "code",
   "execution_count": null,
   "metadata": {},
   "outputs": [],
   "source": [
    "with driver.session() as session:\n",
    "    result = session.run('''\n",
    "    CALL {\n",
    "        MATCH p=(u1:User)-[i:INTERACTION]-(u2:User) \n",
    "        WHERE u1.id < u2.id \n",
    "        RETURN u1, u2, p, i\n",
    "    }\n",
    "    WITH u1, u2, i\n",
    "    CALL {\n",
    "        WITH u1, u2\n",
    "        MATCH pn=(ut)-[:INTERACTION]-(un:User) \n",
    "        WHERE (ut.id = u1.id OR ut.id = u2.id) AND un.id <> ut.id\n",
    "        RETURN COUNT(DISTINCT un) as un_union\n",
    "    }\n",
    "    CALL {\n",
    "        WITH u1, u2\n",
    "        MATCH pn=(u1)-[:INTERACTION]-(un:User)-[:INTERACTION]-(u2)\n",
    "        WHERE un.id <> u1.id AND un.id <> u2.id      \n",
    "        RETURN COUNT(DISTINCT un) as un_intersection\n",
    "    }\n",
    "    WITH i, toFloat(un_intersection) / (toFloat(un_union)-2.0) as un_overlap\n",
    "    SET i.neighbourhood_overlap = un_overlap\n",
    "''')"
   ]
  },
  {
   "cell_type": "markdown",
   "metadata": {},
   "source": [
    "Local Clustering Coefficient:"
   ]
  },
  {
   "cell_type": "code",
   "execution_count": null,
   "metadata": {},
   "outputs": [],
   "source": [
    "with driver.session() as session:\n",
    "    result = session.run('''\n",
    "    CALL {\n",
    "        MATCH p=(u:User)-[i:INTERACTION]-(un:User)\n",
    "        WHERE u.id < un.id \n",
    "        RETURN u, COUNT(i) as k\n",
    "    }\n",
    "    WITH u, k\n",
    "    CALL {\n",
    "        WITH u\n",
    "        MATCH pn=(un1:User)-[:INTERACTION]-(u)-[:INTERACTION]-(un2:User),\n",
    "        (un1)-[i:INTERACTION]-(un2)\n",
    "        WHERE un1.id < un2.id\n",
    "        RETURN COUNT(i) as e\n",
    "    }\n",
    "    WITH u, toFloat(k) as float_k, toFloat(e) as float_e\n",
    "    SET u.local_clustering_coefficient = (2.0 * float_e) / (float_k*(float_k - 1.0))\n",
    "''')"
   ]
  },
  {
   "cell_type": "markdown",
   "metadata": {},
   "source": [
    "Local Clustering Difference:"
   ]
  },
  {
   "cell_type": "code",
   "execution_count": null,
   "metadata": {},
   "outputs": [],
   "source": [
    "with driver.session() as session:\n",
    "    result = session.run('''\n",
    "    CALL {\n",
    "        MATCH p=(u1:User)-[i:INTERACTION]-(u2:User) \n",
    "        WHERE u1.id < u2.id \n",
    "        RETURN u1, u2, p, i\n",
    "    }\n",
    "    WITH u1, u2, i\n",
    "    SET i.local_clustering_deviation = abs(u1.local_clustering_coefficient - u2.local_clustering_coefficient)\n",
    "''')"
   ]
  },
  {
   "cell_type": "markdown",
   "metadata": {},
   "source": [
    "Tie Strength:"
   ]
  },
  {
   "cell_type": "code",
   "execution_count": null,
   "metadata": {},
   "outputs": [],
   "source": [
    "with driver.session() as session:\n",
    "    result = session.run('''\n",
    "    CALL {\n",
    "        MATCH p=(u1:User)-[i:INTERACTION]-(u2:User) \n",
    "        WHERE u1.id < u2.id \n",
    "        RETURN u1, u2, p, i\n",
    "    }\n",
    "    WITH i\n",
    "    SET i.gt_tie_strength = ((1 - i.local_clustering_deviation) * 0.5) + (i.neighbourhood_overlap * 0.5) \n",
    "''')"
   ]
  },
  {
   "cell_type": "markdown",
   "metadata": {},
   "source": [
    "## Feature Genration"
   ]
  },
  {
   "cell_type": "code",
   "execution_count": null,
   "metadata": {},
   "outputs": [],
   "source": []
  },
  {
   "cell_type": "markdown",
   "metadata": {},
   "source": [
    "## Sampling"
   ]
  },
  {
   "cell_type": "markdown",
   "metadata": {},
   "source": [
    "Sample random interactions:"
   ]
  },
  {
   "cell_type": "code",
   "execution_count": 2,
   "metadata": {},
   "outputs": [],
   "source": [
    "sample_size = 10000"
   ]
  },
  {
   "cell_type": "code",
   "execution_count": 3,
   "metadata": {},
   "outputs": [],
   "source": [
    "with driver.session() as session:\n",
    "    result = session.run(f'''\n",
    "    CALL {{\n",
    "        MATCH p=(u1:User)-[i:INTERACTION]-(u2:User) \n",
    "        WHERE u1.id < u2.id \n",
    "        RETURN p, rand() as r, i \n",
    "        ORDER BY r\n",
    "        LIMIT {sample_size}\n",
    "    }}\n",
    "    SET i.set = \"default\"\n",
    "''')"
   ]
  },
  {
   "cell_type": "markdown",
   "metadata": {},
   "source": [
    "## Split Generation"
   ]
  }
 ],
 "metadata": {
  "kernelspec": {
   "display_name": "venv",
   "language": "python",
   "name": "python3"
  },
  "language_info": {
   "codemirror_mode": {
    "name": "ipython",
    "version": 3
   },
   "file_extension": ".py",
   "mimetype": "text/x-python",
   "name": "python",
   "nbconvert_exporter": "python",
   "pygments_lexer": "ipython3",
   "version": "3.11.5"
  }
 },
 "nbformat": 4,
 "nbformat_minor": 2
}
