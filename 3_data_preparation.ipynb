{
 "cells": [
  {
   "cell_type": "markdown",
   "metadata": {},
   "source": [
    "# Data Preparation"
   ]
  },
  {
   "cell_type": "markdown",
   "metadata": {},
   "source": [
    "## Setup"
   ]
  },
  {
   "cell_type": "code",
   "execution_count": null,
   "metadata": {},
   "outputs": [],
   "source": [
    "from neo4j import GraphDatabase\n",
    "\n",
    "uri = \"neo4j://localhost:7687\"\n",
    "driver = GraphDatabase.driver(uri)"
   ]
  },
  {
   "cell_type": "markdown",
   "metadata": {},
   "source": [
    "## Project Graph"
   ]
  },
  {
   "cell_type": "code",
   "execution_count": null,
   "metadata": {},
   "outputs": [],
   "source": [
    "with driver.session() as session:\n",
    "    result = session.run('''\n",
    "        CALL gds.graph.project(\n",
    "            'userInteractionGraph',\n",
    "            ['User'],\n",
    "            [\n",
    "                {INTERACTION: {orientation: 'UNDIRECTED',aggregation: 'SINGLE'} }\n",
    "            ]\n",
    "        )\n",
    "        YIELD graphName AS graph, nodeProjection, nodeCount AS nodes, relationshipProjection, relationshipCount AS rels\n",
    "''')"
   ]
  },
  {
   "cell_type": "code",
   "execution_count": null,
   "metadata": {},
   "outputs": [],
   "source": [
    "with driver.session() as session:\n",
    "    session.run('''\n",
    "    CALL gds.graph.drop('userInteractionGraph', false) YIELD graphName;\n",
    "''')"
   ]
  },
  {
   "cell_type": "markdown",
   "metadata": {},
   "source": [
    "## Ground Truth Generation"
   ]
  },
  {
   "cell_type": "markdown",
   "metadata": {},
   "source": [
    "Calculate Neighborhood Overlap:"
   ]
  },
  {
   "cell_type": "code",
   "execution_count": null,
   "metadata": {},
   "outputs": [],
   "source": [
    "with driver.session() as session:\n",
    "    result = session.run('''\n",
    "        CALL{\n",
    "            CALL gds.nodeSimilarity.stream('userInteractionGraph', { topK: 10, bottomk: 10 })\n",
    "            YIELD node1, node2, similarity\n",
    "            WITH gds.util.asNode(node1) AS u1, gds.util.asNode(node2) AS u2, similarity\n",
    "            MATCH (u1)-[i:INTERACTION]-(u2)\n",
    "            SET i.neighbourhoodOverlap = similarity          \n",
    "        } IN TRANSACTIONS OF 1000 ROWS\n",
    "''')"
   ]
  },
  {
   "cell_type": "code",
   "execution_count": null,
   "metadata": {},
   "outputs": [],
   "source": [
    "with driver.session() as session:\n",
    "    result = session.run('''\n",
    "    WITH \"MATCH (u1:User) -[i:INTERACTION]- (u2:User)\n",
    "        WHERE u1.id < u2.id\n",
    "        RETURN 'u' + u1.id AS `:START_ID`, 'u' + u2.id AS `:END_ID`, i.postings AS `postings:long`, i.channels AS `channels:long`, i.upvotes AS `upvotes:long`, i.downvotes AS `downvotes:long`, i.follows AS `follows:long`, i.ignores AS `ignores:long`, i.neighbourhoodOverlap AS `neighbourhoodOverlap:float`\n",
    "        ORDER BY u1.id, u2.id\" AS query\n",
    "    CALL apoc.export.csv.query(query, \"interaction.csv\", {quotes: \"ifNeeded\"})\n",
    "    YIELD file, source, format, nodes, relationships, properties, time, rows, batchSize, batches, done, data\n",
    "    RETURN file, source, format, nodes, relationships, properties, time, rows, batchSize, batches, done, data\n",
    "''')"
   ]
  },
  {
   "cell_type": "code",
   "execution_count": null,
   "metadata": {},
   "outputs": [],
   "source": [
    "!docker cp tie-strength-prediction-neo4j-1:/var/lib/neo4j/import/interaction.csv graph/"
   ]
  },
  {
   "cell_type": "markdown",
   "metadata": {},
   "source": [
    "Local Clustering Coefficient:"
   ]
  },
  {
   "cell_type": "code",
   "execution_count": null,
   "metadata": {},
   "outputs": [],
   "source": [
    "with driver.session() as session:\n",
    "    result = session.run('''\n",
    "    CALL gds.localClusteringCoefficient.write('userInteractionGraph', {\n",
    "    writeProperty: 'localClusteringCoefficient'\n",
    "    })\n",
    "    YIELD averageClusteringCoefficient, nodeCount\n",
    "''')"
   ]
  },
  {
   "cell_type": "markdown",
   "metadata": {},
   "source": [
    "Min Local Clustering Coefficient:"
   ]
  },
  {
   "cell_type": "code",
   "execution_count": null,
   "metadata": {},
   "outputs": [],
   "source": [
    "with driver.session() as session:\n",
    "    result = session.run('''\n",
    "    CALL {\n",
    "        MATCH p=(u1:User)-[i:INTERACTION]-(u2:User) \n",
    "        RETURN u1, u2, i\n",
    "    }\n",
    "    WITH u1, u2, i,\n",
    "        CASE WHEN u1.localClusteringCoefficient < u2.localClusteringCoefficient\n",
    "            THEN u1.localClusteringCoefficient\n",
    "            ELSE u2.localClusteringCoefficient\n",
    "        END AS minLocalClusterinCoefficient       \n",
    "    CALL {\n",
    "        WITH u1, u2, i, minLocalClusterinCoefficient\n",
    "        SET i.minLocalClusterinCoefficient = minLocalClusterinCoefficient\n",
    "    } IN TRANSACTIONS OF 1000 ROWS\n",
    "''')"
   ]
  },
  {
   "cell_type": "code",
   "execution_count": null,
   "metadata": {},
   "outputs": [],
   "source": [
    "with driver.session() as session:\n",
    "    result = session.run('''\n",
    "    WITH \"MATCH (u1:User) -[i:INTERACTION]- (u2:User)\n",
    "        WHERE u1.id < u2.id\n",
    "        RETURN 'u' + u1.id AS `:START_ID`, 'u' + u2.id AS `:END_ID`, i.postings AS `postings:long`, i.channels AS `channels:long`, i.upvotes AS `upvotes:long`, i.downvotes AS `downvotes:long`, i.follows AS `follows:long`, i.ignores AS `ignores:long`, i.neighbourhoodOverlap AS `neighbourhoodOverlap:float`, i.minLocalClusterinCoefficient AS `minLocalClusterinCoefficient:float`\n",
    "        ORDER BY u1.id, u2.id\" AS query\n",
    "    CALL apoc.export.csv.query(query, \"interaction.csv\", {quotes: \"ifNeeded\"})\n",
    "    YIELD file, source, format, nodes, relationships, properties, time, rows, batchSize, batches, done, data\n",
    "    RETURN file, source, format, nodes, relationships, properties, time, rows, batchSize, batches, done, data\n",
    "''')"
   ]
  },
  {
   "cell_type": "code",
   "execution_count": null,
   "metadata": {},
   "outputs": [],
   "source": [
    "!docker cp tie-strength-prediction-neo4j-1:/var/lib/neo4j/import/interaction.csv graph/"
   ]
  },
  {
   "cell_type": "markdown",
   "metadata": {},
   "source": [
    "Tie Strength:"
   ]
  },
  {
   "cell_type": "code",
   "execution_count": null,
   "metadata": {},
   "outputs": [],
   "source": [
    "with driver.session() as session:\n",
    "    result = session.run('''\n",
    "    CALL {\n",
    "        MATCH p=(u1:User)-[i:INTERACTION]-(u2:User) \n",
    "        RETURN u1, u2, p, i\n",
    "    }\n",
    "    WITH u1, u2, i,\n",
    "        CASE WHEN i.minLocalClusterinCoefficient IS NULL OR i.neighbourhoodOverlap IS NULL\n",
    "            THEN NULL\n",
    "            ELSE (i.minLocalClusterinCoefficient * 0.5) + (i.neighbourhoodOverlap * 0.5) \n",
    "        END AS tieStrength\n",
    "    CALL {\n",
    "        WITH u1, u2, i, tieStrength\n",
    "        SET i.tieStrength = tieStrength\n",
    "    } IN TRANSACTIONS OF 1000 ROWS\n",
    "''')"
   ]
  },
  {
   "cell_type": "code",
   "execution_count": null,
   "metadata": {},
   "outputs": [],
   "source": [
    "with driver.session() as session:\n",
    "    result = session.run('''\n",
    "    WITH \"MATCH (u1:User) -[i:INTERACTION]- (u2:User)\n",
    "        WHERE u1.id < u2.id\n",
    "        RETURN 'u' + u1.id AS `:START_ID`, 'u' + u2.id AS `:END_ID`, i.postings AS `postings:long`, i.channels AS `channels:long`, i.upvotes AS `upvotes:long`, i.downvotes AS `downvotes:long`, i.follows AS `follows:long`, i.ignores AS `ignores:long`, i.set AS `set`, i.neighbourhoodOverlap AS `neighbourhoodOverlap:float`, i.minLocalClusterinCoefficient AS `minLocalClusterinCoefficient:float`, i.tieStrength AS `tieStrength:float`\n",
    "        ORDER BY u1.id, u2.id\" AS query\n",
    "    CALL apoc.export.csv.query(query, \"interaction.csv\", {quotes: \"ifNeeded\"})\n",
    "    YIELD file, source, format, nodes, relationships, properties, time, rows, batchSize, batches, done, data\n",
    "    RETURN file, source, format, nodes, relationships, properties, time, rows, batchSize, batches, done, data\n",
    "''')"
   ]
  },
  {
   "cell_type": "code",
   "execution_count": null,
   "metadata": {},
   "outputs": [],
   "source": [
    "!docker cp tie-strength-prediction-neo4j-1:/var/lib/neo4j/import/interaction.csv graph/"
   ]
  },
  {
   "cell_type": "markdown",
   "metadata": {},
   "source": [
    "## Feature Genration"
   ]
  },
  {
   "cell_type": "markdown",
   "metadata": {},
   "source": [
    "Interaction Frequency:"
   ]
  },
  {
   "cell_type": "code",
   "execution_count": null,
   "metadata": {},
   "outputs": [],
   "source": [
    "with driver.session() as session:\n",
    "    result = session.run('''\n",
    "    CALL {\n",
    "        MATCH p=(u1:User)-[i:INTERACTION]-(u2:User) \n",
    "        RETURN u1, u2, p, i\n",
    "    }\n",
    "    WITH u1, u2, i,\n",
    "        CASE WHEN i.upvotes IS NULL\n",
    "            THEN 0.0\n",
    "            ELSE i.upvotes\n",
    "        END AS upvotes,\n",
    "        CASE WHEN i.downvotes IS NULL\n",
    "            THEN 0.0\n",
    "            ELSE i.downvotes\n",
    "        END AS downvotes,\n",
    "        CASE WHEN i.postings IS NULL\n",
    "            THEN 0.0\n",
    "            ELSE i.postings\n",
    "        END AS postings\n",
    "    CALL {\n",
    "        WITH u1, u2, i, upvotes, downvotes, postings\n",
    "        SET i.interactionFrequency = upvotes + downvotes + postings\n",
    "    } IN TRANSACTIONS OF 1000 ROWS\n",
    "''')"
   ]
  },
  {
   "cell_type": "markdown",
   "metadata": {},
   "source": [
    "Sentiment:"
   ]
  },
  {
   "cell_type": "code",
   "execution_count": null,
   "metadata": {},
   "outputs": [],
   "source": [
    "with driver.session() as session:\n",
    "    result = session.run('''\n",
    "    CALL {\n",
    "        MATCH p=(u1:User)-[i:INTERACTION]-(u2:User) \n",
    "        RETURN u1, u2, p, i\n",
    "    }\n",
    "    WITH u1, u2, i,\n",
    "        CASE WHEN i.upvotes IS NULL\n",
    "            THEN 0.0\n",
    "            ELSE toFloat(i.upvotes)\n",
    "        END AS upvotes,\n",
    "        CASE WHEN i.downvotes IS NULL\n",
    "            THEN 0.0\n",
    "            ELSE toFloat(i.downvotes)\n",
    "        END AS downvotes,\n",
    "        CASE WHEN i.follows IS NULL\n",
    "            THEN 0.0\n",
    "            ELSE toFloat(i.follows)\n",
    "        END AS follows,\n",
    "        CASE WHEN i.ignores IS NULL\n",
    "            THEN 0.0\n",
    "            ELSE toFloat(i.ignores)\n",
    "        END AS ignores        \n",
    "    WITH u1, u2, i, \n",
    "        CASE WHEN upvotes + downvotes = 0.0\n",
    "            THEN 0.0\n",
    "            ELSE ((upvotes / (upvotes + downvotes)) * (0.5))\n",
    "        END AS voting_sentiment,\n",
    "        CASE WHEN follows + ignores = 0.0\n",
    "            THEN 0.0\n",
    "            ELSE ((follows / (follows + ignores)) * (0.5))\n",
    "        END AS following_sentiment\n",
    "    CALL {\n",
    "        WITH u1, u2, i, voting_sentiment, following_sentiment\n",
    "        SET i.sentiment = voting_sentiment + following_sentiment\n",
    "    } IN TRANSACTIONS OF 1000 ROWS\n",
    "''')"
   ]
  },
  {
   "cell_type": "markdown",
   "metadata": {},
   "source": [
    "Closeness:"
   ]
  },
  {
   "cell_type": "code",
   "execution_count": null,
   "metadata": {},
   "outputs": [],
   "source": [
    "with driver.session() as session:\n",
    "    result = session.run('''\n",
    "    CALL {\n",
    "        MATCH p=(u1:User)-[i:INTERACTION]-(u2:User) \n",
    "        WHERE i.neighbourhoodOverlap IS NOT NULL\n",
    "        RETURN u1, u2, p, i\n",
    "    }\n",
    "    WITH u1, u2, i\n",
    "    CALL {\n",
    "        WITH u1, u2, i\n",
    "        MATCH pn=(u1)-[i1:INTERACTION]-(un:User)-[i2:INTERACTION]-(u2)\n",
    "        WHERE i1.follows = 2 AND i2.follows = 2\n",
    "        RETURN COUNT(DISTINCT un) as common_friends\n",
    "    }\n",
    "    WITH u1, u2, i, common_friends\n",
    "    CALL {\n",
    "        WITH u1, u2, i, common_friends\n",
    "        SET i.closeness = common_friends\n",
    "    } IN TRANSACTIONS OF 1000 ROWS\n",
    "''')"
   ]
  },
  {
   "cell_type": "markdown",
   "metadata": {},
   "source": [
    "Reciprocity"
   ]
  },
  {
   "cell_type": "code",
   "execution_count": null,
   "metadata": {},
   "outputs": [],
   "source": [
    "with driver.session() as session:\n",
    "    result = session.run('''\n",
    "    CALL {\n",
    "        MATCH p=(u1:User)-[i:INTERACTION]-(u2:User) \n",
    "        RETURN u1, u2, p, i\n",
    "    }\n",
    "    WITH u1, u2, i,\n",
    "        CASE WHEN i.follows IS NULL\n",
    "            THEN 0\n",
    "            ELSE i.follows\n",
    "        END AS follows\n",
    "    WITH u1, u2, i,\n",
    "        CASE WHEN follows = 2\n",
    "            THEN 1\n",
    "            ELSE 0\n",
    "        END AS reciprocity\n",
    "    CALL {\n",
    "        WITH u1, u2, i, reciprocity\n",
    "        SET i.reciprocity = reciprocity\n",
    "    } IN TRANSACTIONS OF 1000 ROWS\n",
    "''')"
   ]
  },
  {
   "cell_type": "markdown",
   "metadata": {},
   "source": [
    "Multiplexity"
   ]
  },
  {
   "cell_type": "code",
   "execution_count": null,
   "metadata": {},
   "outputs": [],
   "source": [
    "with driver.session() as session:\n",
    "    result = session.run('''\n",
    "    CALL {\n",
    "        MATCH p=(u1:User)-[i:INTERACTION]-(u2:User) \n",
    "        RETURN u1, u2, p, i\n",
    "    }\n",
    "    WITH u1, u2, i,\n",
    "        CASE WHEN i.channels IS NULL\n",
    "            THEN 0\n",
    "            ELSE i.channels\n",
    "        END AS channels          \n",
    "    CALL {\n",
    "        WITH u1, u2, i, channels\n",
    "        SET i.multiplexity = channels\n",
    "    } IN TRANSACTIONS OF 1000 ROWS\n",
    "''')"
   ]
  },
  {
   "cell_type": "code",
   "execution_count": null,
   "metadata": {},
   "outputs": [],
   "source": [
    "with driver.session() as session:\n",
    "    result = session.run('''\n",
    "    WITH \"MATCH (u1:User) -[i:INTERACTION]- (u2:User)\n",
    "        WHERE u1.id < u2.id\n",
    "        RETURN 'u' + u1.id AS `:START_ID`, 'u' + u2.id AS `:END_ID`, i.postings AS `postings:long`, i.channels AS `channels:long`, i.upvotes AS `upvotes:long`, i.downvotes AS `downvotes:long`, i.follows AS `follows:long`, i.ignores AS `ignores:long`, i.neighbourhoodOverlap AS `neighbourhoodOverlap:float`, i.minLocalClusterinCoefficient AS `minLocalClusterinCoefficient:float`, i.tieStrength AS `tieStrength:float`, i.reciprocity AS `reciprocity:float`, i.multiplexity AS `multiplexity:long`, i.closeness AS `closeness:long`, i.sentiment AS `sentiment:float`, i.interactionFrequency AS `interactionFrequency:long`\n",
    "        ORDER BY u1.id, u2.id\" AS query\n",
    "    CALL apoc.export.csv.query(query, \"interaction.csv\", {quotes: \"ifNeeded\"})\n",
    "    YIELD file, source, format, nodes, relationships, properties, time, rows, batchSize, batches, done, data\n",
    "    RETURN file, source, format, nodes, relationships, properties, time, rows, batchSize, batches, done, data\n",
    "''')"
   ]
  },
  {
   "cell_type": "code",
   "execution_count": null,
   "metadata": {},
   "outputs": [],
   "source": [
    "!docker cp tie-strength-prediction-neo4j-1:/var/lib/neo4j/import/interaction.csv graph/"
   ]
  },
  {
   "cell_type": "markdown",
   "metadata": {},
   "source": [
    "Sample Connected Nodes:"
   ]
  },
  {
   "cell_type": "markdown",
   "metadata": {},
   "source": [
    "## Split Generation"
   ]
  },
  {
   "cell_type": "code",
   "execution_count": null,
   "metadata": {},
   "outputs": [],
   "source": [
    "import pandas as pd\n",
    "from sklearn.model_selection import train_test_split"
   ]
  },
  {
   "cell_type": "markdown",
   "metadata": {},
   "source": [
    "Read the data from the csv file"
   ]
  },
  {
   "cell_type": "code",
   "execution_count": null,
   "metadata": {},
   "outputs": [],
   "source": [
    "df = pd.read_csv('graph/interaction-final.csv', sep=',', header=0)\n",
    "\n",
    "display(df)"
   ]
  },
  {
   "cell_type": "markdown",
   "metadata": {},
   "source": [
    "Remove interactions without tie strength"
   ]
  },
  {
   "cell_type": "code",
   "execution_count": null,
   "metadata": {},
   "outputs": [],
   "source": [
    "df = df[df['tieStrength:float'].notna()]\n",
    "\n",
    "display(df)"
   ]
  },
  {
   "cell_type": "markdown",
   "metadata": {},
   "source": [
    "Remove unused columns"
   ]
  },
  {
   "cell_type": "code",
   "execution_count": null,
   "metadata": {},
   "outputs": [],
   "source": [
    "df = df.drop([':START_ID', ':END_ID', 'postings:long', 'channels:long', 'upvotes:long', 'downvotes:long', 'follows:long', 'ignores:long'], axis=1)\n",
    "\n",
    "display(df)"
   ]
  },
  {
   "cell_type": "code",
   "execution_count": null,
   "metadata": {},
   "outputs": [],
   "source": [
    "# Split the data into train and test set\n",
    "train_set, test_set = train_test_split(df, test_size=0.2, random_state=42)\n",
    "\n",
    "# Further split the train set into train and validation set\n",
    "train_set, val_set = train_test_split(train_set, test_size=0.25, random_state=42) # 0.25 x 0.8 = 0.2\n"
   ]
  },
  {
   "cell_type": "code",
   "execution_count": null,
   "metadata": {},
   "outputs": [],
   "source": [
    "train_set.to_csv('graph/interaction_train_set.csv', index=False)\n",
    "val_set.to_csv('graph/interaction_val_set.csv', index=False)\n",
    "test_set.to_csv('graph/interaction_test_set.csv', index=False)"
   ]
  },
  {
   "cell_type": "markdown",
   "metadata": {},
   "source": [
    "## Model Creation"
   ]
  },
  {
   "cell_type": "code",
   "execution_count": null,
   "metadata": {},
   "outputs": [],
   "source": []
  }
 ],
 "metadata": {
  "kernelspec": {
   "display_name": "venv",
   "language": "python",
   "name": "python3"
  },
  "language_info": {
   "codemirror_mode": {
    "name": "ipython",
    "version": 3
   },
   "file_extension": ".py",
   "mimetype": "text/x-python",
   "name": "python",
   "nbconvert_exporter": "python",
   "pygments_lexer": "ipython3",
   "version": "3.11.5"
  }
 },
 "nbformat": 4,
 "nbformat_minor": 2
}
